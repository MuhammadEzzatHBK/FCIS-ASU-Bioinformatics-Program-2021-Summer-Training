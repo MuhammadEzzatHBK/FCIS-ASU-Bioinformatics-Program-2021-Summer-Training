{
 "cells": [
  {
   "cell_type": "markdown",
   "metadata": {},
   "source": [
    "# Introduction to R\n",
    "Welcome to the first lecture of our Bioinformatics training program for summer 2021. In this program we will work together to give you a solid foundation that shall help you in your upcoming bioinformatics projects. This is the orientation session for our training. It will showcase the training terms & conditions, guide the trainees to install Rtools & Rstudio -which are going to be our working environment- & layout a solid R syntax foundation. Let's start!!\n"
   ]
  },
  {
   "cell_type": "markdown",
   "metadata": {},
   "source": [
    "## 1) The whats & whys of R programming"
   ]
  },
  {
   "cell_type": "markdown",
   "metadata": {},
   "source": [
    "R is a programming language and free software environment for statistical computing and graphics supported by the R Core Team and the R Foundation for Statistical Computing. More importantly it's an open source languages, which means anyone has the opportunity to add value to the community. This resulted in creating a lot of useful packages & tools that are R supported. Which makes R a great language to study data science."
   ]
  },
  {
   "cell_type": "markdown",
   "metadata": {},
   "source": [
    "R is a scripting language that support the functional programming paradigm. So in order to understand how R works, we need to understand what is scripting & what is functional programming. Let's start with scripting & programming."
   ]
  },
  {
   "cell_type": "markdown",
   "metadata": {},
   "source": [
    "### 1.1 Software developmet : Scripting & Programming"
   ]
  },
  {
   "cell_type": "markdown",
   "metadata": {},
   "source": [
    "Basically, all scripting languages are programming languages. The theoretical difference between the two is that scripting languages do not require the compilation step and are rather interpreted. There are also other fundamental differences when dealing with either one of them. Programming is the process of creating a system that shall run for several use cases & has many functional & non-functional requirements. Programming takes account of reliability, efficiency, scalability & several other regulations & constraints."
   ]
  },
  {
   "cell_type": "markdown",
   "metadata": {},
   "source": [
    "Meanwhile, developing scripts is quite a different proccess. Scripts are more of goal-oriented, they focus on bringing high-quality reproducable outputs & findings while conserving some maintainability. Scripts don't really have non-functional requirements, a script developer doesn't have to care about theme, usability or scalability. His main goal is to produce a good reproducable outcome."
   ]
  },
  {
   "cell_type": "markdown",
   "metadata": {},
   "source": [
    "Scripting is used to compute findings for a research, article, report or any simple form of computations for a certain defined gaol. While Programming is used to establish multi-purpposed systems that serve a broader range of users in general. Scripting languages are common in the wild & you have defintley heared about some of them like R, Python, Ruby ..etc. While probably most of the languages that you have studied before are programming langauges like C, C#, C++ & Java."
   ]
  },
  {
   "cell_type": "markdown",
   "metadata": {},
   "source": [
    "### 1.2 Programming Paradigms : FP & OOP"
   ]
  },
  {
   "cell_type": "markdown",
   "metadata": {},
   "source": [
    "There are many programming paradigms that exist, each of them has it's use & purpose. Today we are going to compare Object Oriented Programming to Functional Programming. A paradigm that you have studied before to a the paradigm that we are going to work with throughout our training. What you have studied before in OOP is that your system is developed through interaction between `diverse objects` inside one `environemnt`, each object is intiated from a blue print called `class`. Those objects can cause changes in the `state` of other objects or in the state of the bigger environment, objects can also be affected by other objects or by the surrounding environment."
   ]
  },
  {
   "cell_type": "markdown",
   "metadata": {},
   "source": [
    "![PlayerUnknown's Battlegrounds](img/lecture1-pubg.jpg)"
   ]
  },
  {
   "cell_type": "markdown",
   "metadata": {},
   "source": [
    "Consider a game of PUBG. You exist in this match as an object which is the `soldier`, your teammates control other objects & you all play together in one `match/map` which is an environment. You can roam the map freely, capture flags/lootboxes, kill enemy soldiers, get killed by another soldier or maybe die to another effects fall damage/zone colsure. These are what we are genuinely talking about in OOP. An object exists in an environemnt, it can affect of get affected by the environment. Objects can also interact with each other inside the environment. Well done, you figured out the paradigm."
   ]
  },
  {
   "cell_type": "markdown",
   "metadata": {},
   "source": [
    "However, when doing a statistical analysis for example, each step of the analysis is a function of it's own. It only observes it's inputs, use them in calculations & deliever the output to the next step/function as an input to deal with. Think about `RMSE` (root mean squared error). First you calculate the error vector, you get the square root of all the errors, you calculate the average, then finally get its square root. As we say each step of those is totally independant, it only needs one input to get one output. So the question is do we really need objects & environments for such calculations?"
   ]
  },
  {
   "cell_type": "markdown",
   "metadata": {},
   "source": [
    "The fact is we don't. And considering all of this clutter for such simple tasks can be tedious to develop, hard to test & won't achieve the best out of the use case required. Thus, functional programming is required for our purpose, where we can isolate each function like a black box with all it has to do is to generate the output from the input given. ![Functional Programming](img/fp.jpg)"
   ]
  },
  {
   "cell_type": "markdown",
   "metadata": {},
   "source": [
    "Using functional programming, now it's easier to develop readable, scalable & maintainable code for statistical analysis. And through connecting a squence of functions together for a purpose we can construct sophisticated pipelines that can do multi-leveled analysis. We suggest going deeper into the concepts of functional programming on your own while attending our training."
   ]
  },
  {
   "cell_type": "markdown",
   "metadata": {},
   "source": [
    "## 2) Toolset"
   ]
  },
  {
   "cell_type": "markdown",
   "metadata": {},
   "source": [
    "If it isn't obvious yet, we are going to be using R 4.0.1. You can download it from [here](https://cran.r-project.org/bin/windows/base/). We are going to write R on RStudio, the most popular IDE for writing R code. There are also alternatives like VSCode & Jupyter Notebook. You can download Rstudio from [here](https://www.rstudio.com/products/rstudio/download/#download). Please keep in mind that you will need to select the suitable version for your OS & bandwidth. "
   ]
  },
  {
   "cell_type": "markdown",
   "metadata": {},
   "source": [
    "The third element you need to have on your machine is Rtools. Rtools is the program that is responsible for downloading R packages & loading them into your development environment. The reason is R has too many packages, each package contains code & data that you may use for your analysis. You may use some on a certain project, but on another project you may not. So instead of loading all of the packages every single time, Rtools makes it easy to load only the packages that yuo will use. You can download Rtools from [here](https://cran.r-project.org/bin/windows/Rtools/)."
   ]
  },
  {
   "cell_type": "markdown",
   "metadata": {},
   "source": [
    "## 3) Writing R\n",
    "Enough on the theory, let's start writing R"
   ]
  },
  {
   "cell_type": "markdown",
   "metadata": {},
   "source": [
    "### 3.1) Hello R!"
   ]
  },
  {
   "cell_type": "code",
   "execution_count": 1,
   "metadata": {},
   "outputs": [
    {
     "data": {
      "text/html": [
       "4"
      ],
      "text/latex": [
       "4"
      ],
      "text/markdown": [
       "4"
      ],
      "text/plain": [
       "[1] 4"
      ]
     },
     "metadata": {},
     "output_type": "display_data"
    },
    {
     "name": "stdout",
     "output_type": "stream",
     "text": [
      "[1] \"Hello World\"\n",
      "[1] 3\n"
     ]
    }
   ],
   "source": [
    "#R console can be used as a calculator\n",
    "2+2\n",
    "\n",
    "#printing to the console\n",
    "print('Hello World')\n",
    "\n",
    "#Variable Assignment\n",
    "x <- 1 #Better practice in R\n",
    "y = 2\n",
    "print(x+y)\n",
    "\n",
    "#Single line comment\n",
    "\n",
    "#R doesn’t support Multi-line and Documentation comments. \n",
    "#It only supports single-line comments drafted by a ‘#’ symbol."
   ]
  },
  {
   "cell_type": "markdown",
   "metadata": {},
   "source": [
    "### 3.2) Data types & structures"
   ]
  },
  {
   "cell_type": "code",
   "execution_count": 15,
   "metadata": {},
   "outputs": [
    {
     "data": {
      "text/html": [
       "'numeric'"
      ],
      "text/latex": [
       "'numeric'"
      ],
      "text/markdown": [
       "'numeric'"
      ],
      "text/plain": [
       "[1] \"numeric\""
      ]
     },
     "metadata": {},
     "output_type": "display_data"
    },
    {
     "data": {
      "text/html": [
       "'numeric'"
      ],
      "text/latex": [
       "'numeric'"
      ],
      "text/markdown": [
       "'numeric'"
      ],
      "text/plain": [
       "[1] \"numeric\""
      ]
     },
     "metadata": {},
     "output_type": "display_data"
    },
    {
     "data": {
      "text/html": [
       "'integer'"
      ],
      "text/latex": [
       "'integer'"
      ],
      "text/markdown": [
       "'integer'"
      ],
      "text/plain": [
       "[1] \"integer\""
      ]
     },
     "metadata": {},
     "output_type": "display_data"
    },
    {
     "data": {
      "text/html": [
       "'character'"
      ],
      "text/latex": [
       "'character'"
      ],
      "text/markdown": [
       "'character'"
      ],
      "text/plain": [
       "[1] \"character\""
      ]
     },
     "metadata": {},
     "output_type": "display_data"
    },
    {
     "data": {
      "text/html": [
       "'logical'"
      ],
      "text/latex": [
       "'logical'"
      ],
      "text/markdown": [
       "'logical'"
      ],
      "text/plain": [
       "[1] \"logical\""
      ]
     },
     "metadata": {},
     "output_type": "display_data"
    },
    {
     "data": {
      "text/html": [
       "2"
      ],
      "text/latex": [
       "2"
      ],
      "text/markdown": [
       "2"
      ],
      "text/plain": [
       "[1] 2"
      ]
     },
     "metadata": {},
     "output_type": "display_data"
    },
    {
     "data": {
      "text/html": [
       "'TRUE'"
      ],
      "text/latex": [
       "'TRUE'"
      ],
      "text/markdown": [
       "'TRUE'"
      ],
      "text/plain": [
       "[1] \"TRUE\""
      ]
     },
     "metadata": {},
     "output_type": "display_data"
    },
    {
     "name": "stdout",
     "output_type": "stream",
     "text": [
      "[1] 1\n",
      "[1] \"Hello\"\n"
     ]
    }
   ],
   "source": [
    "# Primitive dtypes\n",
    "class(2)\n",
    "class(2.4)\n",
    "class(2L)\n",
    "class(\"String\")\n",
    "class(FALSE)\n",
    "\n",
    "#Type conversions\n",
    "as.numeric(2L)\n",
    "as.character(TRUE)\n",
    "\n",
    "#Array-like structures\n",
    "Vector <- c(1,2,3)\n",
    "List <- list(1,TRUE,\"Hello\")\n",
    "print(Vector[1])\n",
    "print(List[[3]])"
   ]
  },
  {
   "cell_type": "markdown",
   "metadata": {},
   "source": [
    "Important to notice in the previous cell. Vectors & lists are similar structures the main difference is that vectors must be homogenous (all elements of same type), while lists can contain elements of different kinds. The other big difference you can notice in R is 1 indexing. Arrays & lists start from element number 1 to element number `length`."
   ]
  },
  {
   "cell_type": "code",
   "execution_count": 14,
   "metadata": {},
   "outputs": [
    {
     "name": "stdout",
     "output_type": "stream",
     "text": [
      "[1] 2\n",
      "[1] \"R\"\n",
      "[1] 1 1 1 1\n"
     ]
    }
   ],
   "source": [
    "#Named lists : Lists as dictionaries\n",
    "named_list <- list('number' = 2, 'string' = 'R', 'vector' = c(1,1,1,1))\n",
    "print(named_list[[1]])\n",
    "print(named_list[['string']])\n",
    "print(named_list[['vector']])"
   ]
  },
  {
   "cell_type": "markdown",
   "metadata": {},
   "source": [
    "There are no dictionaries/maps in base R, however you can always create a named list that works exactly as a dictionary or a map in base R."
   ]
  },
  {
   "cell_type": "code",
   "execution_count": 21,
   "metadata": {},
   "outputs": [
    {
     "data": {
      "text/html": [
       "<ol class=list-inline>\n",
       "\t<li>High</li>\n",
       "\t<li>Intermmediate</li>\n",
       "\t<li>Low</li>\n",
       "</ol>\n",
       "\n",
       "<details>\n",
       "\t<summary style=display:list-item;cursor:pointer>\n",
       "\t\t<strong>Levels</strong>:\n",
       "\t</summary>\n",
       "\t<ol class=list-inline>\n",
       "\t\t<li>'High'</li>\n",
       "\t\t<li>'Intermmediate'</li>\n",
       "\t\t<li>'Low'</li>\n",
       "\t</ol>\n",
       "</details>"
      ],
      "text/latex": [
       "\\begin{enumerate*}\n",
       "\\item High\n",
       "\\item Intermmediate\n",
       "\\item Low\n",
       "\\end{enumerate*}\n",
       "\n",
       "\\emph{Levels}: \\begin{enumerate*}\n",
       "\\item 'High'\n",
       "\\item 'Intermmediate'\n",
       "\\item 'Low'\n",
       "\\end{enumerate*}\n"
      ],
      "text/markdown": [
       "1. High\n",
       "2. Intermmediate\n",
       "3. Low\n",
       "\n",
       "\n",
       "\n",
       "**Levels**: 1. 'High'\n",
       "2. 'Intermmediate'\n",
       "3. 'Low'\n",
       "\n",
       "\n"
      ],
      "text/plain": [
       "[1] High          Intermmediate Low          \n",
       "Levels: High Intermmediate Low"
      ]
     },
     "metadata": {},
     "output_type": "display_data"
    }
   ],
   "source": [
    "factor(c('High', 'Intermmediate', 'Low'))"
   ]
  },
  {
   "cell_type": "markdown",
   "metadata": {},
   "source": [
    "`Factor` is a meta-type based on character. It adds special behaviours to categorical variables in R. As you know categorical variables can appear in two forms; Nominal variables & ordinal varaibles. Nominal variables describe an entity label, like your name for instance, most of the time nominal variables work as identifiers, like your name, ID ..etc. Meanwhile, oridnal variables do decide a category for an instance, like gender, BMI class..etc."
   ]
  },
  {
   "cell_type": "markdown",
   "metadata": {},
   "source": [
    "## 3.3) Packages & dataframes\n",
    "An R package is a set of code & data dedicated towards providing solutions for some kind of issues. For example, ggplot2 is a package that is specialized in plotting beautiful visualizations. There are hundreds of packages on CRAN the official R archive. You can develop your own package, upload it on either github or CRAN if it is up to standards. Today we will be looking into how to install & load packages & we will give a quick introduction on Data Frames"
   ]
  },
  {
   "cell_type": "code",
   "execution_count": 41,
   "metadata": {},
   "outputs": [],
   "source": [
    "options(warn=-1) #disable warnings\n",
    "#install.packages('dplyr')\n",
    "library(dplyr) #loading packages\n",
    "\n",
    "iris <- read.csv('data/iris.csv')"
   ]
  },
  {
   "cell_type": "code",
   "execution_count": 47,
   "metadata": {},
   "outputs": [
    {
     "data": {
      "text/html": [
       "<table>\n",
       "<thead><tr><th scope=col>Id</th><th scope=col>SepalLengthCm</th><th scope=col>SepalWidthCm</th><th scope=col>PetalLengthCm</th><th scope=col>PetalWidthCm</th><th scope=col>Species</th></tr></thead>\n",
       "<tbody>\n",
       "\t<tr><td>1          </td><td>5.1        </td><td>3.5        </td><td>1.4        </td><td>0.2        </td><td>Iris-setosa</td></tr>\n",
       "\t<tr><td>2          </td><td>4.9        </td><td>3.0        </td><td>1.4        </td><td>0.2        </td><td>Iris-setosa</td></tr>\n",
       "\t<tr><td>3          </td><td>4.7        </td><td>3.2        </td><td>1.3        </td><td>0.2        </td><td>Iris-setosa</td></tr>\n",
       "\t<tr><td>4          </td><td>4.6        </td><td>3.1        </td><td>1.5        </td><td>0.2        </td><td>Iris-setosa</td></tr>\n",
       "\t<tr><td>5          </td><td>5.0        </td><td>3.6        </td><td>1.4        </td><td>0.2        </td><td>Iris-setosa</td></tr>\n",
       "\t<tr><td>6          </td><td>5.4        </td><td>3.9        </td><td>1.7        </td><td>0.4        </td><td>Iris-setosa</td></tr>\n",
       "</tbody>\n",
       "</table>\n"
      ],
      "text/latex": [
       "\\begin{tabular}{r|llllll}\n",
       " Id & SepalLengthCm & SepalWidthCm & PetalLengthCm & PetalWidthCm & Species\\\\\n",
       "\\hline\n",
       "\t 1           & 5.1         & 3.5         & 1.4         & 0.2         & Iris-setosa\\\\\n",
       "\t 2           & 4.9         & 3.0         & 1.4         & 0.2         & Iris-setosa\\\\\n",
       "\t 3           & 4.7         & 3.2         & 1.3         & 0.2         & Iris-setosa\\\\\n",
       "\t 4           & 4.6         & 3.1         & 1.5         & 0.2         & Iris-setosa\\\\\n",
       "\t 5           & 5.0         & 3.6         & 1.4         & 0.2         & Iris-setosa\\\\\n",
       "\t 6           & 5.4         & 3.9         & 1.7         & 0.4         & Iris-setosa\\\\\n",
       "\\end{tabular}\n"
      ],
      "text/markdown": [
       "\n",
       "| Id | SepalLengthCm | SepalWidthCm | PetalLengthCm | PetalWidthCm | Species |\n",
       "|---|---|---|---|---|---|\n",
       "| 1           | 5.1         | 3.5         | 1.4         | 0.2         | Iris-setosa |\n",
       "| 2           | 4.9         | 3.0         | 1.4         | 0.2         | Iris-setosa |\n",
       "| 3           | 4.7         | 3.2         | 1.3         | 0.2         | Iris-setosa |\n",
       "| 4           | 4.6         | 3.1         | 1.5         | 0.2         | Iris-setosa |\n",
       "| 5           | 5.0         | 3.6         | 1.4         | 0.2         | Iris-setosa |\n",
       "| 6           | 5.4         | 3.9         | 1.7         | 0.4         | Iris-setosa |\n",
       "\n"
      ],
      "text/plain": [
       "  Id SepalLengthCm SepalWidthCm PetalLengthCm PetalWidthCm Species    \n",
       "1 1  5.1           3.5          1.4           0.2          Iris-setosa\n",
       "2 2  4.9           3.0          1.4           0.2          Iris-setosa\n",
       "3 3  4.7           3.2          1.3           0.2          Iris-setosa\n",
       "4 4  4.6           3.1          1.5           0.2          Iris-setosa\n",
       "5 5  5.0           3.6          1.4           0.2          Iris-setosa\n",
       "6 6  5.4           3.9          1.7           0.4          Iris-setosa"
      ]
     },
     "metadata": {},
     "output_type": "display_data"
    },
    {
     "data": {
      "text/html": [
       "<table>\n",
       "<thead><tr><th></th><th scope=col>Id</th><th scope=col>SepalLengthCm</th><th scope=col>SepalWidthCm</th><th scope=col>PetalLengthCm</th><th scope=col>PetalWidthCm</th><th scope=col>Species</th></tr></thead>\n",
       "<tbody>\n",
       "\t<tr><th scope=row>145</th><td>145           </td><td>6.7           </td><td>3.3           </td><td>5.7           </td><td>2.5           </td><td>Iris-virginica</td></tr>\n",
       "\t<tr><th scope=row>146</th><td>146           </td><td>6.7           </td><td>3.0           </td><td>5.2           </td><td>2.3           </td><td>Iris-virginica</td></tr>\n",
       "\t<tr><th scope=row>147</th><td>147           </td><td>6.3           </td><td>2.5           </td><td>5.0           </td><td>1.9           </td><td>Iris-virginica</td></tr>\n",
       "\t<tr><th scope=row>148</th><td>148           </td><td>6.5           </td><td>3.0           </td><td>5.2           </td><td>2.0           </td><td>Iris-virginica</td></tr>\n",
       "\t<tr><th scope=row>149</th><td>149           </td><td>6.2           </td><td>3.4           </td><td>5.4           </td><td>2.3           </td><td>Iris-virginica</td></tr>\n",
       "\t<tr><th scope=row>150</th><td>150           </td><td>5.9           </td><td>3.0           </td><td>5.1           </td><td>1.8           </td><td>Iris-virginica</td></tr>\n",
       "</tbody>\n",
       "</table>\n"
      ],
      "text/latex": [
       "\\begin{tabular}{r|llllll}\n",
       "  & Id & SepalLengthCm & SepalWidthCm & PetalLengthCm & PetalWidthCm & Species\\\\\n",
       "\\hline\n",
       "\t145 & 145            & 6.7            & 3.3            & 5.7            & 2.5            & Iris-virginica\\\\\n",
       "\t146 & 146            & 6.7            & 3.0            & 5.2            & 2.3            & Iris-virginica\\\\\n",
       "\t147 & 147            & 6.3            & 2.5            & 5.0            & 1.9            & Iris-virginica\\\\\n",
       "\t148 & 148            & 6.5            & 3.0            & 5.2            & 2.0            & Iris-virginica\\\\\n",
       "\t149 & 149            & 6.2            & 3.4            & 5.4            & 2.3            & Iris-virginica\\\\\n",
       "\t150 & 150            & 5.9            & 3.0            & 5.1            & 1.8            & Iris-virginica\\\\\n",
       "\\end{tabular}\n"
      ],
      "text/markdown": [
       "\n",
       "| <!--/--> | Id | SepalLengthCm | SepalWidthCm | PetalLengthCm | PetalWidthCm | Species |\n",
       "|---|---|---|---|---|---|---|\n",
       "| 145 | 145            | 6.7            | 3.3            | 5.7            | 2.5            | Iris-virginica |\n",
       "| 146 | 146            | 6.7            | 3.0            | 5.2            | 2.3            | Iris-virginica |\n",
       "| 147 | 147            | 6.3            | 2.5            | 5.0            | 1.9            | Iris-virginica |\n",
       "| 148 | 148            | 6.5            | 3.0            | 5.2            | 2.0            | Iris-virginica |\n",
       "| 149 | 149            | 6.2            | 3.4            | 5.4            | 2.3            | Iris-virginica |\n",
       "| 150 | 150            | 5.9            | 3.0            | 5.1            | 1.8            | Iris-virginica |\n",
       "\n"
      ],
      "text/plain": [
       "    Id  SepalLengthCm SepalWidthCm PetalLengthCm PetalWidthCm Species       \n",
       "145 145 6.7           3.3          5.7           2.5          Iris-virginica\n",
       "146 146 6.7           3.0          5.2           2.3          Iris-virginica\n",
       "147 147 6.3           2.5          5.0           1.9          Iris-virginica\n",
       "148 148 6.5           3.0          5.2           2.0          Iris-virginica\n",
       "149 149 6.2           3.4          5.4           2.3          Iris-virginica\n",
       "150 150 5.9           3.0          5.1           1.8          Iris-virginica"
      ]
     },
     "metadata": {},
     "output_type": "display_data"
    }
   ],
   "source": [
    "head(iris) #printing first 6 rows\n",
    "tail(iris) #printing last 6 rows"
   ]
  },
  {
   "cell_type": "code",
   "execution_count": 48,
   "metadata": {},
   "outputs": [
    {
     "data": {
      "text/html": [
       "<ol class=list-inline>\n",
       "\t<li>150</li>\n",
       "\t<li>6</li>\n",
       "</ol>\n"
      ],
      "text/latex": [
       "\\begin{enumerate*}\n",
       "\\item 150\n",
       "\\item 6\n",
       "\\end{enumerate*}\n"
      ],
      "text/markdown": [
       "1. 150\n",
       "2. 6\n",
       "\n",
       "\n"
      ],
      "text/plain": [
       "[1] 150   6"
      ]
     },
     "metadata": {},
     "output_type": "display_data"
    },
    {
     "name": "stdout",
     "output_type": "stream",
     "text": [
      "'data.frame':\t150 obs. of  6 variables:\n",
      " $ Id           : int  1 2 3 4 5 6 7 8 9 10 ...\n",
      " $ SepalLengthCm: num  5.1 4.9 4.7 4.6 5 5.4 4.6 5 4.4 4.9 ...\n",
      " $ SepalWidthCm : num  3.5 3 3.2 3.1 3.6 3.9 3.4 3.4 2.9 3.1 ...\n",
      " $ PetalLengthCm: num  1.4 1.4 1.3 1.5 1.4 1.7 1.4 1.5 1.4 1.5 ...\n",
      " $ PetalWidthCm : num  0.2 0.2 0.2 0.2 0.2 0.4 0.3 0.2 0.2 0.1 ...\n",
      " $ Species      : Factor w/ 3 levels \"Iris-setosa\",..: 1 1 1 1 1 1 1 1 1 1 ...\n"
     ]
    },
    {
     "data": {
      "text/plain": [
       "       Id         SepalLengthCm    SepalWidthCm   PetalLengthCm  \n",
       " Min.   :  1.00   Min.   :4.300   Min.   :2.000   Min.   :1.000  \n",
       " 1st Qu.: 38.25   1st Qu.:5.100   1st Qu.:2.800   1st Qu.:1.600  \n",
       " Median : 75.50   Median :5.800   Median :3.000   Median :4.350  \n",
       " Mean   : 75.50   Mean   :5.843   Mean   :3.054   Mean   :3.759  \n",
       " 3rd Qu.:112.75   3rd Qu.:6.400   3rd Qu.:3.300   3rd Qu.:5.100  \n",
       " Max.   :150.00   Max.   :7.900   Max.   :4.400   Max.   :6.900  \n",
       "  PetalWidthCm              Species  \n",
       " Min.   :0.100   Iris-setosa    :50  \n",
       " 1st Qu.:0.300   Iris-versicolor:50  \n",
       " Median :1.300   Iris-virginica :50  \n",
       " Mean   :1.199                       \n",
       " 3rd Qu.:1.800                       \n",
       " Max.   :2.500                       "
      ]
     },
     "metadata": {},
     "output_type": "display_data"
    }
   ],
   "source": [
    "dim(iris) # dimentions rowxcol\n",
    "str(iris) #column dtypes\n",
    "summary(iris) #quick statistics"
   ]
  },
  {
   "cell_type": "code",
   "execution_count": 49,
   "metadata": {},
   "outputs": [
    {
     "data": {
      "image/png": "[encoded data removed]",
      "text/plain": [
       "plot without title"
      ]
     },
     "metadata": {},
     "output_type": "display_data"
    }
   ],
   "source": [
    "plot(iris[,-1]) #pairplot"
   ]
  },
  {
   "cell_type": "code",
   "execution_count": 50,
   "metadata": {},
   "outputs": [
    {
     "data": {
      "image/png": "[encoded data removed]",
      "text/plain": [
       "Plot with title \"Histogram of iris$PetalWidthCm\""
      ]
     },
     "metadata": {},
     "output_type": "display_data"
    }
   ],
   "source": [
    "hist(iris$PetalWidthCm) #histogram of 1 column"
   ]
  },
  {
   "cell_type": "markdown",
   "metadata": {},
   "source": [
    "## 3.4) Loops, Conditions & Functions\n",
    "We will demonstrate those three in the next cell."
   ]
  },
  {
   "cell_type": "code",
   "execution_count": 67,
   "metadata": {},
   "outputs": [
    {
     "data": {
      "text/html": [
       "<ol class=list-inline>\n",
       "\t<li>'Low'</li>\n",
       "\t<li>'Low'</li>\n",
       "\t<li>'Low'</li>\n",
       "\t<li>'Low'</li>\n",
       "\t<li>'Low'</li>\n",
       "\t<li>'Low'</li>\n",
       "\t<li>'Low'</li>\n",
       "\t<li>'Low'</li>\n",
       "\t<li>'Low'</li>\n",
       "\t<li>'Low'</li>\n",
       "\t<li>'Low'</li>\n",
       "\t<li>'Low'</li>\n",
       "\t<li>'Low'</li>\n",
       "\t<li>'Low'</li>\n",
       "\t<li>'Low'</li>\n",
       "\t<li>'Low'</li>\n",
       "\t<li>'Low'</li>\n",
       "\t<li>'Low'</li>\n",
       "\t<li>'Low'</li>\n",
       "\t<li>'Low'</li>\n",
       "\t<li>'Low'</li>\n",
       "\t<li>'Low'</li>\n",
       "\t<li>'Low'</li>\n",
       "\t<li>'Low'</li>\n",
       "\t<li>'Low'</li>\n",
       "\t<li>'Low'</li>\n",
       "\t<li>'Low'</li>\n",
       "\t<li>'Low'</li>\n",
       "\t<li>'Low'</li>\n",
       "\t<li>'Medium'</li>\n",
       "\t<li>'Medium'</li>\n",
       "\t<li>'Medium'</li>\n",
       "\t<li>'Medium'</li>\n",
       "\t<li>'Medium'</li>\n",
       "\t<li>'Medium'</li>\n",
       "\t<li>'Medium'</li>\n",
       "\t<li>'Medium'</li>\n",
       "\t<li>'Medium'</li>\n",
       "\t<li>'Medium'</li>\n",
       "\t<li>'High'</li>\n",
       "\t<li>'High'</li>\n",
       "\t<li>'High'</li>\n",
       "\t<li>'High'</li>\n",
       "\t<li>'High'</li>\n",
       "\t<li>'High'</li>\n",
       "\t<li>'High'</li>\n",
       "\t<li>'High'</li>\n",
       "\t<li>'High'</li>\n",
       "\t<li>'High'</li>\n",
       "\t<li>'High'</li>\n",
       "</ol>\n"
      ],
      "text/latex": [
       "\\begin{enumerate*}\n",
       "\\item 'Low'\n",
       "\\item 'Low'\n",
       "\\item 'Low'\n",
       "\\item 'Low'\n",
       "\\item 'Low'\n",
       "\\item 'Low'\n",
       "\\item 'Low'\n",
       "\\item 'Low'\n",
       "\\item 'Low'\n",
       "\\item 'Low'\n",
       "\\item 'Low'\n",
       "\\item 'Low'\n",
       "\\item 'Low'\n",
       "\\item 'Low'\n",
       "\\item 'Low'\n",
       "\\item 'Low'\n",
       "\\item 'Low'\n",
       "\\item 'Low'\n",
       "\\item 'Low'\n",
       "\\item 'Low'\n",
       "\\item 'Low'\n",
       "\\item 'Low'\n",
       "\\item 'Low'\n",
       "\\item 'Low'\n",
       "\\item 'Low'\n",
       "\\item 'Low'\n",
       "\\item 'Low'\n",
       "\\item 'Low'\n",
       "\\item 'Low'\n",
       "\\item 'Medium'\n",
       "\\item 'Medium'\n",
       "\\item 'Medium'\n",
       "\\item 'Medium'\n",
       "\\item 'Medium'\n",
       "\\item 'Medium'\n",
       "\\item 'Medium'\n",
       "\\item 'Medium'\n",
       "\\item 'Medium'\n",
       "\\item 'Medium'\n",
       "\\item 'High'\n",
       "\\item 'High'\n",
       "\\item 'High'\n",
       "\\item 'High'\n",
       "\\item 'High'\n",
       "\\item 'High'\n",
       "\\item 'High'\n",
       "\\item 'High'\n",
       "\\item 'High'\n",
       "\\item 'High'\n",
       "\\item 'High'\n",
       "\\end{enumerate*}\n"
      ],
      "text/markdown": [
       "1. 'Low'\n",
       "2. 'Low'\n",
       "3. 'Low'\n",
       "4. 'Low'\n",
       "5. 'Low'\n",
       "6. 'Low'\n",
       "7. 'Low'\n",
       "8. 'Low'\n",
       "9. 'Low'\n",
       "10. 'Low'\n",
       "11. 'Low'\n",
       "12. 'Low'\n",
       "13. 'Low'\n",
       "14. 'Low'\n",
       "15. 'Low'\n",
       "16. 'Low'\n",
       "17. 'Low'\n",
       "18. 'Low'\n",
       "19. 'Low'\n",
       "20. 'Low'\n",
       "21. 'Low'\n",
       "22. 'Low'\n",
       "23. 'Low'\n",
       "24. 'Low'\n",
       "25. 'Low'\n",
       "26. 'Low'\n",
       "27. 'Low'\n",
       "28. 'Low'\n",
       "29. 'Low'\n",
       "30. 'Medium'\n",
       "31. 'Medium'\n",
       "32. 'Medium'\n",
       "33. 'Medium'\n",
       "34. 'Medium'\n",
       "35. 'Medium'\n",
       "36. 'Medium'\n",
       "37. 'Medium'\n",
       "38. 'Medium'\n",
       "39. 'Medium'\n",
       "40. 'High'\n",
       "41. 'High'\n",
       "42. 'High'\n",
       "43. 'High'\n",
       "44. 'High'\n",
       "45. 'High'\n",
       "46. 'High'\n",
       "47. 'High'\n",
       "48. 'High'\n",
       "49. 'High'\n",
       "50. 'High'\n",
       "\n",
       "\n"
      ],
      "text/plain": [
       " [1] \"Low\"    \"Low\"    \"Low\"    \"Low\"    \"Low\"    \"Low\"    \"Low\"    \"Low\"   \n",
       " [9] \"Low\"    \"Low\"    \"Low\"    \"Low\"    \"Low\"    \"Low\"    \"Low\"    \"Low\"   \n",
       "[17] \"Low\"    \"Low\"    \"Low\"    \"Low\"    \"Low\"    \"Low\"    \"Low\"    \"Low\"   \n",
       "[25] \"Low\"    \"Low\"    \"Low\"    \"Low\"    \"Low\"    \"Medium\" \"Medium\" \"Medium\"\n",
       "[33] \"Medium\" \"Medium\" \"Medium\" \"Medium\" \"Medium\" \"Medium\" \"Medium\" \"High\"  \n",
       "[41] \"High\"   \"High\"   \"High\"   \"High\"   \"High\"   \"High\"   \"High\"   \"High\"  \n",
       "[49] \"High\"   \"High\"  "
      ]
     },
     "metadata": {},
     "output_type": "display_data"
    }
   ],
   "source": [
    "get_levels <- function(x) {\n",
    "    l = length(x)\n",
    "    return_vector = vector(mode=\"character\", length=l)\n",
    "    for(i in 1:l){\n",
    "        if(x[i] >= 40){\n",
    "            return_vector[i] = 'High'\n",
    "        }\n",
    "        else if(x[i] >= 30){\n",
    "            return_vector[i] = 'Medium'\n",
    "        }\n",
    "        else{\n",
    "            return_vector[i] = 'Low'\n",
    "        }\n",
    "            \n",
    "    }\n",
    "    return(return_vector)\n",
    "}\n",
    "\n",
    "vector <- seq(1:50)\n",
    "get_levels(vector)"
   ]
  },
  {
   "cell_type": "markdown",
   "metadata": {},
   "source": [
    "## 4) Special R tricks\n",
    "Here we will demonstirate some tools in R that aren't common in other languages. Let's start by illegal varaible names. Yes R allows you to use an illegal name; a name that may contain spaces, start by a number or contain a non-utf character. You can use the back-tick operator (button below Esc) to have an illegal name. Not a best practice, but sometimes you find your data in this situation, so its a helpful feature eventually."
   ]
  },
  {
   "cell_type": "code",
   "execution_count": 56,
   "metadata": {},
   "outputs": [
    {
     "name": "stdout",
     "output_type": "stream",
     "text": [
      "[1] 3\n"
     ]
    }
   ],
   "source": [
    "`illegal variable name` <- 3 #back tick\n",
    "print(`illegal variable name`)"
   ]
  },
  {
   "cell_type": "markdown",
   "metadata": {},
   "source": [
    "Next we will showcase an important feature in R. The pipe operator, found in base R as `|>` but we will use the dplyr version `%>%` here, as it is more common. The pipe operator takes whatever on it's right & puts it as the first argument in the function on the left. This allows you to create useful pipelines to construct your analysis step by step. Let's take a little example of calculating `RMSE` (Root mean squared error). The concept of pipeline is crucial to functional programming, its one of the most pleasing programming patterns. We will go deeper into it later lectures."
   ]
  },
  {
   "cell_type": "code",
   "execution_count": 75,
   "metadata": {},
   "outputs": [
    {
     "data": {
      "text/html": [
       "TRUE"
      ],
      "text/latex": [
       "TRUE"
      ],
      "text/markdown": [
       "TRUE"
      ],
      "text/plain": [
       "[1] TRUE"
      ]
     },
     "metadata": {},
     "output_type": "display_data"
    }
   ],
   "source": [
    "errors <- c(1.2,1.4,2,0.9,1,2.1)\n",
    "\n",
    "#pipeline\n",
    "pipeline <- errors %>%\n",
    "            `^`(.,2) %>%\n",
    "                mean() %>%\n",
    "                      sqrt()\n",
    "\n",
    "#alternative\n",
    "traditional <- sqrt(mean(errors^2))\n",
    "\n",
    "pipeline == traditional"
   ]
  },
  {
   "cell_type": "markdown",
   "metadata": {},
   "source": [
    "The last trick is `mappers`. Mappers are instructions that take two arguments; The first one is an array-like structure, the second argument is a function that you would like to apply on every single element in that vector. The question is why use it instead of loops? Well, let's go back in time to your database course. If you remember SQL querries had execution plans that tell the machine the sequence of operation execution of this query. We also know that there are many algorithms that are dedicated towards optimizing execution plans. Same thing with R, mappers in R have better solutions to process big data especially the new `purrr` mappers. Howeve, we are just going to look at `lapply()`. ![Querry Execution Plan](img/exe.jpg)"
   ]
  },
  {
   "cell_type": "code",
   "execution_count": 3,
   "metadata": {},
   "outputs": [
    {
     "name": "stdout",
     "output_type": "stream",
     "text": [
      "Time difference of 3.816827 secs\n",
      "Time difference of 3.614276 secs\n"
     ]
    }
   ],
   "source": [
    "fib <- function(x){\n",
    "    Fibonacci <- vector(mode=\"numeric\", length=x)\n",
    "    Fibonacci[1] <- Fibonacci[2] <- 1\n",
    "    for (i in 3:x) Fibonacci[i] <- Fibonacci[i - 2] + Fibonacci[i - 1]\n",
    "    return (Fibonacci)\n",
    "}\n",
    "\n",
    "vector <- rep(500,50000)\n",
    "\n",
    "#Time with loop\n",
    "start = Sys.time()\n",
    "for (x in vector) fib(x)\n",
    "end = Sys.time()\n",
    "print(end - start)\n",
    "\n",
    "#Time with mapper\n",
    "start = Sys.time()\n",
    "result <- lapply(vector,fib)\n",
    "end = Sys.time()\n",
    "print(end - start)\n"
   ]
  },
  {
   "cell_type": "code",
   "execution_count": 6,
   "metadata": {},
   "outputs": [
    {
     "name": "stdout",
     "output_type": "stream",
     "text": [
      "List of 4\n",
      " $ : num [1:500] 1 1 2 3 5 8 13 21 34 55 ...\n",
      " $ : num [1:500] 1 1 2 3 5 8 13 21 34 55 ...\n",
      " $ : num [1:500] 1 1 2 3 5 8 13 21 34 55 ...\n",
      " $ : num [1:500] 1 1 2 3 5 8 13 21 34 55 ...\n"
     ]
    }
   ],
   "source": [
    "str(result[1:4])"
   ]
  },
  {
   "cell_type": "markdown",
   "metadata": {},
   "source": [
    "Thanks for your attention, try practicing todays concepts. See you next Lecture."
   ]
  }
 ],
 "metadata": {
  "kernelspec": {
   "display_name": "R",
   "language": "R",
   "name": "ir"
  }
 },
 "nbformat": 4,
 "nbformat_minor": 4
}
