{
 "cells": [
  {
   "cell_type": "markdown",
   "id": "2aec6d2a",
   "metadata": {},
   "source": [
    "# Introduction to Bioconductor\n",
    "\n",
    "The Bioconductor project is an open source repository for R packages, datasets and workflows that are specific for analyzing biological data. The Bioconductor project is a useful extension on CRAN, the R Archive, because it provides us with the software tools to explore, understand, and solve simple and complex molecular biology questions. Hence, Bioconductor's tagline is \"open source software for bioinformatics\".\n",
    "\n",
    "Molecular biology questions are usually about either the structure or the function of each of the building blocks of an organism, and very often how they interconnect to one another. Thus, examining & analyzing molecular structure is a key process of identifying a certain component function.\n",
    "\n",
    "We are interested in locating and describing specific locations in a genome because this allows us to learn about diversity, evolution, hereditary changes, and more. To understand this better we subdivide a genome. The written information in a genome uses the DNA alphabet. Think of a genome as a set of books and each book is a chromosome. Chromosome numbers on each genome are highly variable. Usually, chromosomes come in pairs, but multiple sets are very common too. Each chromosome has ordered genetic sequences, think of chapters in a book. To find specific genetic instructions we look at genes. These are like the pages in a book, containing a recipe to make proteins.\n",
    "\n",
    "Some genes will produce proteins but some won't. These are called coding and non-coding genes. Coding genes are expressed through proteins responsible for specific functions. Proteins come up following a two-step process, DNA-to-RNA, a step known as transcription, while the RNA-to-protein is a step called translation."
   ]
  },
  {
   "cell_type": "markdown",
   "id": "11b34441",
   "metadata": {},
   "source": [
    "## Centeral Dogma in Molecular Biology\n",
    "\n",
    "The Central Dogma. This states that once \"information\" has passed into protein it cannot get out again. In more detail, the transfer of information from nucleic acid to nucleic acid, or from nucleic acid to protein may be possible, but transfer from protein to protein, or from protein to nucleic acid is impossible. Information means here the precise determination of sequence, either of bases in the nucleic acid or of amino acid residues in the protein.\n",
    "\n",
    "![Centeral Dogma](https://ib.bioninja.com.au/_Media/central-dogma_med.jpeg)"
   ]
  },
  {
   "cell_type": "markdown",
   "id": "a57520a0",
   "metadata": {},
   "source": [
    "## Installing Bioconductor"
   ]
  },
  {
   "cell_type": "code",
   "execution_count": 1,
   "id": "46f8a1cf",
   "metadata": {
    "scrolled": true
   },
   "outputs": [
    {
     "name": "stderr",
     "output_type": "stream",
     "text": [
      "'getOption(\"repos\")' replaces Bioconductor standard repositories, see\n",
      "'?repositories' for details\n",
      "\n",
      "replacement repositories:\n",
      "    CRAN: https://cran.r-project.org\n",
      "\n"
     ]
    },
    {
     "data": {
      "text/html": [
       "'The number of available packages is: 20718'"
      ],
      "text/latex": [
       "'The number of available packages is: 20718'"
      ],
      "text/markdown": [
       "'The number of available packages is: 20718'"
      ],
      "text/plain": [
       "[1] \"The number of available packages is: 20718\""
      ]
     },
     "metadata": {},
     "output_type": "display_data"
    }
   ],
   "source": [
    "#install.packages(\"BiocManager\") # Installing Bioconductor Package manager\n",
    "\n",
    "#BiocManager::install() #Installing core packages\n",
    "\n",
    "paste0(\"The number of available packages is: \",length(BiocManager::available())) # Get available packages"
   ]
  },
  {
   "cell_type": "code",
   "execution_count": 2,
   "id": "ce22ab0b",
   "metadata": {},
   "outputs": [
    {
     "name": "stderr",
     "output_type": "stream",
     "text": [
      "Loading required package: BSgenome\n",
      "Loading required package: BiocGenerics\n",
      "Loading required package: parallel\n",
      "\n",
      "Attaching package: 'BiocGenerics'\n",
      "\n",
      "The following objects are masked from 'package:parallel':\n",
      "\n",
      "    clusterApply, clusterApplyLB, clusterCall, clusterEvalQ,\n",
      "    clusterExport, clusterMap, parApply, parCapply, parLapply,\n",
      "    parLapplyLB, parRapply, parSapply, parSapplyLB\n",
      "\n",
      "The following objects are masked from 'package:stats':\n",
      "\n",
      "    IQR, mad, sd, var, xtabs\n",
      "\n",
      "The following objects are masked from 'package:base':\n",
      "\n",
      "    anyDuplicated, append, as.data.frame, basename, cbind, colnames,\n",
      "    dirname, do.call, duplicated, eval, evalq, Filter, Find, get, grep,\n",
      "    grepl, intersect, is.unsorted, lapply, Map, mapply, match, mget,\n",
      "    order, paste, pmax, pmax.int, pmin, pmin.int, Position, rank,\n",
      "    rbind, Reduce, rownames, sapply, setdiff, sort, table, tapply,\n",
      "    union, unique, unsplit, which, which.max, which.min\n",
      "\n",
      "Loading required package: S4Vectors\n",
      "Loading required package: stats4\n",
      "\n",
      "Attaching package: 'S4Vectors'\n",
      "\n",
      "The following object is masked from 'package:base':\n",
      "\n",
      "    expand.grid\n",
      "\n",
      "Loading required package: IRanges\n",
      "\n",
      "Attaching package: 'IRanges'\n",
      "\n",
      "The following object is masked from 'package:grDevices':\n",
      "\n",
      "    windows\n",
      "\n",
      "Loading required package: GenomeInfoDb\n",
      "Loading required package: GenomicRanges\n",
      "Loading required package: Biostrings\n",
      "Loading required package: XVector\n",
      "\n",
      "Attaching package: 'Biostrings'\n",
      "\n",
      "The following object is masked from 'package:base':\n",
      "\n",
      "    strsplit\n",
      "\n",
      "Loading required package: rtracklayer\n"
     ]
    },
    {
     "data": {
      "text/html": [
       "'BSgenome'"
      ],
      "text/latex": [
       "'BSgenome'"
      ],
      "text/markdown": [
       "'BSgenome'"
      ],
      "text/plain": [
       "[1] \"BSgenome\"\n",
       "attr(,\"package\")\n",
       "[1] \"BSgenome\""
      ]
     },
     "metadata": {},
     "output_type": "display_data"
    },
    {
     "data": {
      "text/html": [
       "'The number of chromosomes in yeast genome: 17'"
      ],
      "text/latex": [
       "'The number of chromosomes in yeast genome: 17'"
      ],
      "text/markdown": [
       "'The number of chromosomes in yeast genome: 17'"
      ],
      "text/plain": [
       "[1] \"The number of chromosomes in yeast genome: 17\""
      ]
     },
     "metadata": {},
     "output_type": "display_data"
    },
    {
     "name": "stdout",
     "output_type": "stream",
     "text": [
      "[1] \"Chromosomes : \"\n"
     ]
    },
    {
     "data": {
      "text/html": [
       "<dl class=dl-horizontal>\n",
       "\t<dt>chrI</dt>\n",
       "\t\t<dd>230218</dd>\n",
       "\t<dt>chrII</dt>\n",
       "\t\t<dd>813184</dd>\n",
       "\t<dt>chrIII</dt>\n",
       "\t\t<dd>316620</dd>\n",
       "\t<dt>chrIV</dt>\n",
       "\t\t<dd>1531933</dd>\n",
       "\t<dt>chrV</dt>\n",
       "\t\t<dd>576874</dd>\n",
       "\t<dt>chrVI</dt>\n",
       "\t\t<dd>270161</dd>\n",
       "\t<dt>chrVII</dt>\n",
       "\t\t<dd>1090940</dd>\n",
       "\t<dt>chrVIII</dt>\n",
       "\t\t<dd>562643</dd>\n",
       "\t<dt>chrIX</dt>\n",
       "\t\t<dd>439888</dd>\n",
       "\t<dt>chrX</dt>\n",
       "\t\t<dd>745751</dd>\n",
       "\t<dt>chrXI</dt>\n",
       "\t\t<dd>666816</dd>\n",
       "\t<dt>chrXII</dt>\n",
       "\t\t<dd>1078177</dd>\n",
       "\t<dt>chrXIII</dt>\n",
       "\t\t<dd>924431</dd>\n",
       "\t<dt>chrXIV</dt>\n",
       "\t\t<dd>784333</dd>\n",
       "\t<dt>chrXV</dt>\n",
       "\t\t<dd>1091291</dd>\n",
       "\t<dt>chrXVI</dt>\n",
       "\t\t<dd>948066</dd>\n",
       "\t<dt>chrM</dt>\n",
       "\t\t<dd>85779</dd>\n",
       "</dl>\n"
      ],
      "text/latex": [
       "\\begin{description*}\n",
       "\\item[chrI] 230218\n",
       "\\item[chrII] 813184\n",
       "\\item[chrIII] 316620\n",
       "\\item[chrIV] 1531933\n",
       "\\item[chrV] 576874\n",
       "\\item[chrVI] 270161\n",
       "\\item[chrVII] 1090940\n",
       "\\item[chrVIII] 562643\n",
       "\\item[chrIX] 439888\n",
       "\\item[chrX] 745751\n",
       "\\item[chrXI] 666816\n",
       "\\item[chrXII] 1078177\n",
       "\\item[chrXIII] 924431\n",
       "\\item[chrXIV] 784333\n",
       "\\item[chrXV] 1091291\n",
       "\\item[chrXVI] 948066\n",
       "\\item[chrM] 85779\n",
       "\\end{description*}\n"
      ],
      "text/markdown": [
       "chrI\n",
       ":   230218chrII\n",
       ":   813184chrIII\n",
       ":   316620chrIV\n",
       ":   1531933chrV\n",
       ":   576874chrVI\n",
       ":   270161chrVII\n",
       ":   1090940chrVIII\n",
       ":   562643chrIX\n",
       ":   439888chrX\n",
       ":   745751chrXI\n",
       ":   666816chrXII\n",
       ":   1078177chrXIII\n",
       ":   924431chrXIV\n",
       ":   784333chrXV\n",
       ":   1091291chrXVI\n",
       ":   948066chrM\n",
       ":   85779\n",
       "\n"
      ],
      "text/plain": [
       "   chrI   chrII  chrIII   chrIV    chrV   chrVI  chrVII chrVIII   chrIX    chrX \n",
       " 230218  813184  316620 1531933  576874  270161 1090940  562643  439888  745751 \n",
       "  chrXI  chrXII chrXIII  chrXIV   chrXV  chrXVI    chrM \n",
       " 666816 1078177  924431  784333 1091291  948066   85779 "
      ]
     },
     "metadata": {},
     "output_type": "display_data"
    }
   ],
   "source": [
    "#BiocManager::install(\"BSgenome.Scerevisiae.UCSC.sacCer3\")\n",
    "library(BSgenome.Scerevisiae.UCSC.sacCer3) # Yeast genome\n",
    "\n",
    "yeast <- BSgenome.Scerevisiae.UCSC.sacCer3\n",
    "\n",
    "class(yeast)\n",
    "\n",
    "paste0(\"The number of chromosomes in yeast genome: \",length(yeast))\n",
    "\n",
    "print(\"Chromosomes : \")\n",
    "\n",
    "seqlengths(yeast)"
   ]
  },
  {
   "cell_type": "code",
   "execution_count": 3,
   "id": "82e3b186",
   "metadata": {},
   "outputs": [
    {
     "data": {
      "text/plain": [
       "  666816-letter \"DNAString\" instance\n",
       "seq: CACCACACCCACACACCACACCCACACACACACCAC...GTGGTGTGTGTGTGGGTGTGGGTGTGGTGTGTGTGT"
      ]
     },
     "metadata": {},
     "output_type": "display_data"
    },
    {
     "data": {
      "text/plain": [
       "  13-letter \"DNAString\" instance\n",
       "seq: CACCACACCCACA"
      ]
     },
     "metadata": {},
     "output_type": "display_data"
    }
   ],
   "source": [
    "getSeq(yeast, \"chrXI\")\n",
    "\n",
    "getSeq(yeast, \"chrXI\", end = 13) # first 13 bases"
   ]
  },
  {
   "cell_type": "markdown",
   "id": "79b1ea1a",
   "metadata": {},
   "source": [
    "## Biostrings\n",
    "\n",
    "The Biostrings package contains classes and functions for representing biological strings such as DNA, RNA and amino acids. In addition the package has functionality for pattern matching (short read alignment) as well as a pairwise alignment function implementing Smith-Waterman local alignments and Needleman-Wunsch global alignments used in classic sequence alignment (see (Durbin et al. 1998) for a description of these algorithms). There are also functions for reading and writing output such as FASTA files."
   ]
  },
  {
   "cell_type": "code",
   "execution_count": 4,
   "id": "32f5735f",
   "metadata": {},
   "outputs": [
    {
     "data": {
      "text/plain": [
       "  6-letter \"DNAString\" instance\n",
       "seq: AGTCAT"
      ]
     },
     "metadata": {},
     "output_type": "display_data"
    },
    {
     "data": {
      "text/plain": [
       "  6-letter \"RNAString\" instance\n",
       "seq: AGUCAU"
      ]
     },
     "metadata": {},
     "output_type": "display_data"
    },
    {
     "data": {
      "text/plain": [
       "  2-letter \"AAString\" instance\n",
       "seq: SH"
      ]
     },
     "metadata": {},
     "output_type": "display_data"
    },
    {
     "data": {
      "text/html": [
       "TRUE"
      ],
      "text/latex": [
       "TRUE"
      ],
      "text/markdown": [
       "TRUE"
      ],
      "text/plain": [
       "[1] TRUE"
      ]
     },
     "metadata": {},
     "output_type": "display_data"
    },
    {
     "data": {
      "text/plain": [
       "  6-letter \"DNAString\" instance\n",
       "seq: TCAGTA"
      ]
     },
     "metadata": {},
     "output_type": "display_data"
    },
    {
     "data": {
      "text/plain": [
       "  6-letter \"DNAString\" instance\n",
       "seq: ATGACT"
      ]
     },
     "metadata": {},
     "output_type": "display_data"
    },
    {
     "data": {
      "text/html": [
       "TRUE"
      ],
      "text/latex": [
       "TRUE"
      ],
      "text/markdown": [
       "TRUE"
      ],
      "text/plain": [
       "[1] TRUE"
      ]
     },
     "metadata": {},
     "output_type": "display_data"
    }
   ],
   "source": [
    "DNA <- DNAString(\"AGTCAT\")\n",
    "\n",
    "DNA\n",
    "\n",
    "RNAString(DNA) #Transcription\n",
    "\n",
    "translate(DNA) # Translation\n",
    "\n",
    "translate(DNA) == translate(RNAString(DNA))\n",
    "\n",
    "complement(DNA) #Complementing DNA\n",
    "\n",
    "reverseComplement(DNA) #Reverse complement\n",
    "\n",
    "rev(complement(DNA)) == reverseComplement(DNA)\n"
   ]
  },
  {
   "cell_type": "markdown",
   "id": "8d300f61",
   "metadata": {},
   "source": [
    "### Pattern-matching in Biostrings\n",
    "\n",
    "Sequence patterns in the DNA help us find interesting things, such as sequence repeats, protein end codons, poly-A tails, conserved sequences, binding sites, and more. Our goal in analyzing sequence patterns is to discover their occurrence frequency, periodicity, and length.\n",
    "\n",
    "Where does a gene start, where does a protein end, which regions make a gene expressed or silent, which regions are conserved between organisms, and what is the overall genetic variation, are common questions solved by sequence pattern matching."
   ]
  },
  {
   "cell_type": "code",
   "execution_count": 5,
   "id": "897a9ac3",
   "metadata": {},
   "outputs": [
    {
     "data": {
      "text/plain": [
       "  Views on a 666816-letter DNAString subject\n",
       "subject: CACCACACCCACACACCACACCCACACACACACC...GGTGTGTGTGTGGGTGTGGGTGTGGTGTGTGTGT\n",
       "views:\n",
       "     start    end width\n",
       "[1]  23542  23551    10 [ATTGCATGCA]\n",
       "[2] 162051 162060    10 [ATTGCATGCA]"
      ]
     },
     "metadata": {},
     "output_type": "display_data"
    }
   ],
   "source": [
    "XI <- getSeq(yeast, \"chrXI\")\n",
    "\n",
    "matchPattern(\"ATTGCATGCA\",XI)"
   ]
  },
  {
   "cell_type": "code",
   "execution_count": 6,
   "id": "68b6f1d8",
   "metadata": {},
   "outputs": [
    {
     "data": {
      "text/plain": [
       "  Views on a 666816-letter DNAString subject\n",
       "subject: CACCACACCCACACACCACACCCACACACACACC...GGTGTGTGTGTGGGTGTGGGTGTGGTGTGTGTGT\n",
       "views:\n",
       "        start    end width\n",
       "   [1]    222    230     9 [TAACCGTTA]\n",
       "   [2]    458    465     8 [GTATATAC]\n",
       "   [3]    827    836    10 [ATGACGTCAT]\n",
       "   [4]    853    860     8 [TAATATTA]\n",
       "   [5]    887    894     8 [AAATATTT]\n",
       "   ...    ...    ...   ... ...\n",
       "[6322] 665629 665639    11 [ATATGACATAT]\n",
       "[6323] 665676 665684     9 [AAATTATTT]\n",
       "[6324] 666204 666212     9 [ATGGGCCAT]\n",
       "[6325] 666249 666256     8 [GTATATAC]\n",
       "[6326] 666477 666485     9 [TAACGGTTA]"
      ]
     },
     "metadata": {},
     "output_type": "display_data"
    }
   ],
   "source": [
    "findPalindromes(XI)"
   ]
  },
  {
   "cell_type": "markdown",
   "id": "95380abf",
   "metadata": {},
   "source": [
    "Enzymes such as restriction enzymes have to recognize a very specific sequence in order to carry out its task. It binds to the DNA only in one specific configuration. Luckily! because you don't want a 'pacman' that cuts DNA at random places.\n",
    "\n",
    "DNA is double stranded, so it has 'two sides' to which the enzyme can bind. A palindromic sequence is the same backwards and forwards on both sides (see image below). This means that the enzyme recognizes the sequence no matter from which side the enzyme approaches the DNA.\n",
    "\n",
    "A palindromic sequence also increases the chance that both strands of DNA are cut. It is even possible that two enzymes work as a dimer to cut the palindromic sequence, further increasing efficiency."
   ]
  },
  {
   "cell_type": "markdown",
   "id": "2971cdc1",
   "metadata": {},
   "source": [
    "## Gene annotation\n",
    "\n",
    "DNA annotation or genome annotation is the process of identifying the locations of genes and all of the coding regions in a genome and determining what those genes do. Such information is categorized into several classes of data, each class has it's own data base that serves this kind of information. Each database has it's own ID for a given gene. Thus, a proccess of key collection has to be done so you can identify all of the information surrounding a certain gene quickly."
   ]
  },
  {
   "cell_type": "code",
   "execution_count": 7,
   "id": "3b008e0f",
   "metadata": {},
   "outputs": [
    {
     "name": "stderr",
     "output_type": "stream",
     "text": [
      "Loading required package: AnnotationDbi\n",
      "Loading required package: Biobase\n",
      "Welcome to Bioconductor\n",
      "\n",
      "    Vignettes contain introductory material; view with\n",
      "    'browseVignettes()'. To cite Bioconductor, see\n",
      "    'citation(\"Biobase\")', and for packages 'citation(\"pkgname\")'.\n",
      "\n",
      "\n"
     ]
    },
    {
     "data": {
      "text/html": [
       "<ol class=list-inline>\n",
       "\t<li>'P04217'</li>\n",
       "\t<li>'V9HWD8'</li>\n",
       "\t<li>'P01023'</li>\n",
       "\t<li>'P18440'</li>\n",
       "\t<li>'Q400J6'</li>\n",
       "\t<li>'F5H5R8'</li>\n",
       "</ol>\n"
      ],
      "text/latex": [
       "\\begin{enumerate*}\n",
       "\\item 'P04217'\n",
       "\\item 'V9HWD8'\n",
       "\\item 'P01023'\n",
       "\\item 'P18440'\n",
       "\\item 'Q400J6'\n",
       "\\item 'F5H5R8'\n",
       "\\end{enumerate*}\n"
      ],
      "text/markdown": [
       "1. 'P04217'\n",
       "2. 'V9HWD8'\n",
       "3. 'P01023'\n",
       "4. 'P18440'\n",
       "5. 'Q400J6'\n",
       "6. 'F5H5R8'\n",
       "\n",
       "\n"
      ],
      "text/plain": [
       "[1] \"P04217\" \"V9HWD8\" \"P01023\" \"P18440\" \"Q400J6\" \"F5H5R8\""
      ]
     },
     "metadata": {},
     "output_type": "display_data"
    },
    {
     "data": {
      "text/html": [
       "32771"
      ],
      "text/latex": [
       "32771"
      ],
      "text/markdown": [
       "32771"
      ],
      "text/plain": [
       "[1] 32771"
      ]
     },
     "metadata": {},
     "output_type": "display_data"
    },
    {
     "name": "stderr",
     "output_type": "stream",
     "text": [
      "'select()' returned 1:many mapping between keys and columns\n"
     ]
    },
    {
     "data": {
      "text/html": [
       "<table>\n",
       "<thead><tr><th scope=col>UNIPROT</th><th scope=col>SYMBOL</th><th scope=col>OMIM</th></tr></thead>\n",
       "<tbody>\n",
       "\t<tr><td>P04217</td><td>A1BG  </td><td>138670</td></tr>\n",
       "\t<tr><td>V9HWD8</td><td>A1BG  </td><td>138670</td></tr>\n",
       "\t<tr><td>P01023</td><td>A2M   </td><td>103950</td></tr>\n",
       "\t<tr><td>P01023</td><td>A2M   </td><td>104300</td></tr>\n",
       "\t<tr><td>P01023</td><td>A2M   </td><td>614036</td></tr>\n",
       "\t<tr><td>P18440</td><td>NAT1  </td><td>108345</td></tr>\n",
       "</tbody>\n",
       "</table>\n"
      ],
      "text/latex": [
       "\\begin{tabular}{r|lll}\n",
       " UNIPROT & SYMBOL & OMIM\\\\\n",
       "\\hline\n",
       "\t P04217 & A1BG   & 138670\\\\\n",
       "\t V9HWD8 & A1BG   & 138670\\\\\n",
       "\t P01023 & A2M    & 103950\\\\\n",
       "\t P01023 & A2M    & 104300\\\\\n",
       "\t P01023 & A2M    & 614036\\\\\n",
       "\t P18440 & NAT1   & 108345\\\\\n",
       "\\end{tabular}\n"
      ],
      "text/markdown": [
       "\n",
       "| UNIPROT | SYMBOL | OMIM |\n",
       "|---|---|---|\n",
       "| P04217 | A1BG   | 138670 |\n",
       "| V9HWD8 | A1BG   | 138670 |\n",
       "| P01023 | A2M    | 103950 |\n",
       "| P01023 | A2M    | 104300 |\n",
       "| P01023 | A2M    | 614036 |\n",
       "| P18440 | NAT1   | 108345 |\n",
       "\n"
      ],
      "text/plain": [
       "  UNIPROT SYMBOL OMIM  \n",
       "1 P04217  A1BG   138670\n",
       "2 V9HWD8  A1BG   138670\n",
       "3 P01023  A2M    103950\n",
       "4 P01023  A2M    104300\n",
       "5 P01023  A2M    614036\n",
       "6 P18440  NAT1   108345"
      ]
     },
     "metadata": {},
     "output_type": "display_data"
    }
   ],
   "source": [
    "#BiocManager::install('org.Hs.eg.db') #installing db package\n",
    "library(org.Hs.eg.db)\n",
    "\n",
    "uniprot_keys <- keys(org.Hs.eg.db, keytype = \"UNIPROT\")\n",
    "head(uniprot_keys)\n",
    "length(uniprot_keys)\n",
    "\n",
    "head(select(org.Hs.eg.db, keys = uniprot_keys, keytype= \"UNIPROT\", columns = c(\"SYMBOL\", \"OMIM\")))"
   ]
  },
  {
   "cell_type": "code",
   "execution_count": 8,
   "id": "7145dcd1",
   "metadata": {},
   "outputs": [],
   "source": [
    "help(\"SYMBOL\")"
   ]
  },
  {
   "cell_type": "markdown",
   "id": "1b7de7eb",
   "metadata": {},
   "source": [
    "Credit to [Mohmed AbdelFattah](https://www.youtube.com/channel/UC_nDXDXs0j_-1PgUYcmtf1w)"
   ]
  }
 ],
 "metadata": {
  "kernelspec": {
   "display_name": "R",
   "language": "R",
   "name": "ir"
  },
  "language_info": {
   "codemirror_mode": "r",
   "file_extension": ".r",
   "mimetype": "text/x-r-source",
   "name": "R",
   "pygments_lexer": "r",
   "version": "3.6.1"
  }
 },
 "nbformat": 4,
 "nbformat_minor": 5
}
