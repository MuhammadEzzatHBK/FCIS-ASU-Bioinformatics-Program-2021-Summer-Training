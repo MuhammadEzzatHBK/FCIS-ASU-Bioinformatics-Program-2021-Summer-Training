{
 "cells": [
  {
   "cell_type": "markdown",
   "id": "3abe0338",
   "metadata": {},
   "source": [
    "# Tidy Data Tidy Code\n",
    "\n",
    "The tidyverse is a collection of open source R packages introduced by Hadley Wickham and his team that \"share an underlying design philosophy, grammar, and data structures\" of tidy data. The tidyverse was developed to give you the R developer the power to create pipelines of multi-levels of complexity that are able to perform various transformations on your data, while providing a way to create readable, scalable & maintainable code."
   ]
  },
  {
   "cell_type": "markdown",
   "id": "b077cead",
   "metadata": {},
   "source": [
    "One of the core principles of the tidyverse is \"Tidy input tidy output\". Which means that the tidyverse tools operate on the tidy form of data (they have tools that can tidy it), this ensures a structured flow of data across multiple proccesses. So to understand the tidyverse, we have to take a look on \"What's tidy data?\". We will be exploring \"Tidy Data\" published by Hadley Wickham on the Journal of Statistical Software."
   ]
  },
  {
   "cell_type": "markdown",
   "id": "f56bc658",
   "metadata": {},
   "source": [
    "## Tidy Data\n",
    "\n",
    "Hadley starts by citing the book of Tamraparni Dasu & Theodore Johnson \"Exploratory Data Mining and Data Cleaning\" that says data professionals spend nearly 80% of their time on cleaning & tidying data. Data preparation is not just a first step, but must be repeated many over the course of analysis as new problems come to light or new data is collected. The principles of tidy data are closely tied to those of relational databases and Codd’s relational algebra, but are framed in a language familiar to statisticians."
   ]
  },
  {
   "cell_type": "markdown",
   "id": "d4aeb3e7",
   "metadata": {},
   "source": [
    "The principles are as follows :\n",
    "* Each cell contains only one value\n",
    "* Each column contains only one variable\n",
    "* Each row describes only one record\n",
    "* Each table is dedicated to only one entity"
   ]
  },
  {
   "cell_type": "markdown",
   "id": "444fc2bf",
   "metadata": {},
   "source": [
    "Tidy data principles are no rocket science. However, the problem comes from the process of transforming messy data to tidy data, not tidy data or dealing with it at all. The great Tolstoy once said \"All happy families are alike, but every unhappy family is unhappy in its own way\". We can project this quote on our topic perfectly. The problem with tidying data is that all tidy data is layed-out the same. However, there is alot of forms & reasons to have your data messy. Thus, tidying data is a wide process that includes several transformation types under its umbrella. Let's demonstrate the cases that Hadley highlighted in his research."
   ]
  },
  {
   "cell_type": "markdown",
   "id": "03cdc293",
   "metadata": {},
   "source": [
    "### The fraud detection example\n",
    "\n",
    "We will start by solving a little mystery. We need your help suggesting one data transformation that can help us identifying a fraud who uses fake identities to handle transactions within our system. Observe the following data table, pause for a while & try to think of that one move to check mate that fraud!!"
   ]
  },
  {
   "cell_type": "code",
   "execution_count": 1,
   "id": "6c38023a",
   "metadata": {},
   "outputs": [
    {
     "data": {
      "text/html": [
       "<table>\n",
       "<thead><tr><th scope=col>Name</th><th scope=col>work_phone</th><th scope=col>home_phone</th></tr></thead>\n",
       "<tbody>\n",
       "\t<tr><td>Darryl Philibin          </td><td>01612734539              </td><td>01698423618              </td></tr>\n",
       "\t<tr><td>James Halpbert           </td><td>01789303913              </td><td>01790046612              </td></tr>\n",
       "\t<tr><td>Creed Bratton            </td><td>01616188156              </td><td>01791954312              </td></tr>\n",
       "\t<tr><td>William Charles Schenider</td><td>01791954312              </td><td>01616188156              </td></tr>\n",
       "\t<tr><td>Oscar Martinez           </td><td>01623409065              </td><td>01699923176              </td></tr>\n",
       "</tbody>\n",
       "</table>\n"
      ],
      "text/latex": [
       "\\begin{tabular}{r|lll}\n",
       " Name & work\\_phone & home\\_phone\\\\\n",
       "\\hline\n",
       "\t Darryl Philibin           & 01612734539               & 01698423618              \\\\\n",
       "\t James Halpbert            & 01789303913               & 01790046612              \\\\\n",
       "\t Creed Bratton             & 01616188156               & 01791954312              \\\\\n",
       "\t William Charles Schenider & 01791954312               & 01616188156              \\\\\n",
       "\t Oscar Martinez            & 01623409065               & 01699923176              \\\\\n",
       "\\end{tabular}\n"
      ],
      "text/markdown": [
       "\n",
       "| Name | work_phone | home_phone |\n",
       "|---|---|---|\n",
       "| Darryl Philibin           | 01612734539               | 01698423618               |\n",
       "| James Halpbert            | 01789303913               | 01790046612               |\n",
       "| Creed Bratton             | 01616188156               | 01791954312               |\n",
       "| William Charles Schenider | 01791954312               | 01616188156               |\n",
       "| Oscar Martinez            | 01623409065               | 01699923176               |\n",
       "\n"
      ],
      "text/plain": [
       "  Name                      work_phone  home_phone \n",
       "1 Darryl Philibin           01612734539 01698423618\n",
       "2 James Halpbert            01789303913 01790046612\n",
       "3 Creed Bratton             01616188156 01791954312\n",
       "4 William Charles Schenider 01791954312 01616188156\n",
       "5 Oscar Martinez            01623409065 01699923176"
      ]
     },
     "metadata": {},
     "output_type": "display_data"
    }
   ],
   "source": [
    "Name <- c(\"Darryl Philibin\", \"James Halpbert\", \"Creed Bratton\", \"William Charles Schenider\", \"Oscar Martinez\")\n",
    "work_phone <- c(\"01612734539\", \"01789303913\", \"01616188156\", \"01791954312\", \"01623409065\")\n",
    "home_phone <- c(\"01698423618\", \"01790046612\", \"01791954312\", \"01616188156\", \"01699923176\")\n",
    "\n",
    "example_data <- data.frame(Name, work_phone, home_phone)\n",
    "example_data"
   ]
  },
  {
   "cell_type": "markdown",
   "id": "1975f9bf",
   "metadata": {},
   "source": [
    "One of the hints to an identity fraund, is information repition. As for one person, resources are limited, you can only get a home phone & a work phone. Thus, finding cross-columns repition can be a sign of mischief!!!. We will attempt a data transformation trick to ease the search for us."
   ]
  },
  {
   "cell_type": "code",
   "execution_count": 2,
   "id": "5fcf25fd",
   "metadata": {},
   "outputs": [
    {
     "data": {
      "text/html": [
       "<table>\n",
       "<thead><tr><th scope=col>Name</th><th scope=col>phone_type</th><th scope=col>phone number</th></tr></thead>\n",
       "<tbody>\n",
       "\t<tr><td>Darryl Philibin          </td><td>work_phone               </td><td>01612734539              </td></tr>\n",
       "\t<tr><td>Darryl Philibin          </td><td>home_phone               </td><td>01698423618              </td></tr>\n",
       "\t<tr><td>James Halpbert           </td><td>work_phone               </td><td>01789303913              </td></tr>\n",
       "\t<tr><td>James Halpbert           </td><td>home_phone               </td><td>01790046612              </td></tr>\n",
       "\t<tr><td>Creed Bratton            </td><td>work_phone               </td><td>01616188156              </td></tr>\n",
       "\t<tr><td>Creed Bratton            </td><td>home_phone               </td><td>01791954312              </td></tr>\n",
       "\t<tr><td>William Charles Schenider</td><td>work_phone               </td><td>01791954312              </td></tr>\n",
       "\t<tr><td>William Charles Schenider</td><td>home_phone               </td><td>01616188156              </td></tr>\n",
       "\t<tr><td>Oscar Martinez           </td><td>work_phone               </td><td>01623409065              </td></tr>\n",
       "\t<tr><td>Oscar Martinez           </td><td>home_phone               </td><td>01699923176              </td></tr>\n",
       "</tbody>\n",
       "</table>\n"
      ],
      "text/latex": [
       "\\begin{tabular}{r|lll}\n",
       " Name & phone\\_type & phone number\\\\\n",
       "\\hline\n",
       "\t Darryl Philibin           & work\\_phone              & 01612734539              \\\\\n",
       "\t Darryl Philibin           & home\\_phone              & 01698423618              \\\\\n",
       "\t James Halpbert            & work\\_phone              & 01789303913              \\\\\n",
       "\t James Halpbert            & home\\_phone              & 01790046612              \\\\\n",
       "\t Creed Bratton             & work\\_phone              & 01616188156              \\\\\n",
       "\t Creed Bratton             & home\\_phone              & 01791954312              \\\\\n",
       "\t William Charles Schenider & work\\_phone              & 01791954312              \\\\\n",
       "\t William Charles Schenider & home\\_phone              & 01616188156              \\\\\n",
       "\t Oscar Martinez            & work\\_phone              & 01623409065              \\\\\n",
       "\t Oscar Martinez            & home\\_phone              & 01699923176              \\\\\n",
       "\\end{tabular}\n"
      ],
      "text/markdown": [
       "\n",
       "| Name | phone_type | phone number |\n",
       "|---|---|---|\n",
       "| Darryl Philibin           | work_phone                | 01612734539               |\n",
       "| Darryl Philibin           | home_phone                | 01698423618               |\n",
       "| James Halpbert            | work_phone                | 01789303913               |\n",
       "| James Halpbert            | home_phone                | 01790046612               |\n",
       "| Creed Bratton             | work_phone                | 01616188156               |\n",
       "| Creed Bratton             | home_phone                | 01791954312               |\n",
       "| William Charles Schenider | work_phone                | 01791954312               |\n",
       "| William Charles Schenider | home_phone                | 01616188156               |\n",
       "| Oscar Martinez            | work_phone                | 01623409065               |\n",
       "| Oscar Martinez            | home_phone                | 01699923176               |\n",
       "\n"
      ],
      "text/plain": [
       "   Name                      phone_type phone number\n",
       "1  Darryl Philibin           work_phone 01612734539 \n",
       "2  Darryl Philibin           home_phone 01698423618 \n",
       "3  James Halpbert            work_phone 01789303913 \n",
       "4  James Halpbert            home_phone 01790046612 \n",
       "5  Creed Bratton             work_phone 01616188156 \n",
       "6  Creed Bratton             home_phone 01791954312 \n",
       "7  William Charles Schenider work_phone 01791954312 \n",
       "8  William Charles Schenider home_phone 01616188156 \n",
       "9  Oscar Martinez            work_phone 01623409065 \n",
       "10 Oscar Martinez            home_phone 01699923176 "
      ]
     },
     "metadata": {},
     "output_type": "display_data"
    }
   ],
   "source": [
    "tidyr::pivot_longer(example_data, !Name, values_to = 'phone number', names_to = 'phone_type')"
   ]
  },
  {
   "cell_type": "markdown",
   "id": "bed7f625",
   "metadata": {},
   "source": [
    "### Messy data symptoms\n",
    "\n",
    "Here we will demonstrate the top five messy data symptoms Hadley Wickham talked about in his paper.\n",
    "\n",
    "* Column Headers as values\n",
    "| City | Temp > 15 | Temp > 30 | Temp > 45 |\n",
    "| --- | --- | --- | --- |\n",
    "| Cairo | 0 | 0 | 1 |\n",
    "\n",
    "* Multiple variables stored in a column\n",
    "| Name | Attribute |\n",
    "| --- | --- |\n",
    "| Jim | 75 kg |\n",
    "| Jim | 181 cm |\n",
    "| Jim | 23 years |\n",
    "\n",
    "* Variables are stored in both rows and columns (one cell carriestwo values)\n",
    "| Name | Age - Gender |\n",
    "| --- | --- |\n",
    "| Jim | 23 - Male |\n",
    "| Angela | 28 - Female |\n",
    "\n",
    "* Multiple types in one table\n",
    "* A single unit stored in multiple tables"
   ]
  },
  {
   "cell_type": "markdown",
   "id": "8e473816",
   "metadata": {},
   "source": [
    "## Tidyverse\n",
    "\n",
    "Now, we will demonstrate the core packages of the tidyverse. The tidyverse includes 25 packages, today we will demonstrate four of the core packages, we will leave ggplot2 for the next lecture. The packages we are going to showcase them today are tidyr, dplyr, purrr & stringr. Keep in mind the main principle of the tidyverse \"Tidy input Tidy output\"."
   ]
  },
  {
   "cell_type": "markdown",
   "id": "e36a26e2",
   "metadata": {},
   "source": [
    "### 1) tidyr\n",
    "\n",
    "You already saw this package in action, tidyr provides a set of functions that help you get to tidy data. Tidy data is data with a consistent form: in brief, every variable goes in a column, and every column is a variable. We will demonstrate the two most important functions of tidyr; pivot_longer & pivot_wider. Both of those functions focus on changing the data layout from long to wide. Both of those layouts can be tidy, but probably one of them is more useful to you depending on the context. Note : the older versions of those functions are gather() & spread() their code isn't going away but is no longer under active development."
   ]
  },
  {
   "cell_type": "code",
   "execution_count": 3,
   "id": "51d0faf3",
   "metadata": {},
   "outputs": [
    {
     "name": "stderr",
     "output_type": "stream",
     "text": [
      "-- Attaching packages --------------------------------------- tidyverse 1.3.0 --\n",
      "v ggplot2 3.3.3     v purrr   0.3.4\n",
      "v tibble  3.0.6     v dplyr   1.0.4\n",
      "v tidyr   1.1.2     v stringr 1.4.0\n",
      "v readr   1.4.0     v forcats 0.5.1\n",
      "-- Conflicts ------------------------------------------ tidyverse_conflicts() --\n",
      "x dplyr::filter() masks stats::filter()\n",
      "x dplyr::lag()    masks stats::lag()\n"
     ]
    }
   ],
   "source": [
    "options(readr.num_columns = 0)\n",
    "library(tidyverse)\n",
    "gapminder_income_data <- read_csv('data/income_data.csv')\n",
    "names(gapminder_income_data) <- as.character(names(gapminder_income_data))"
   ]
  },
  {
   "cell_type": "code",
   "execution_count": 4,
   "id": "89fd16de",
   "metadata": {},
   "outputs": [
    {
     "data": {
      "text/html": [
       "<table>\n",
       "<thead><tr><th scope=col>country</th><th scope=col>1800</th><th scope=col>1801</th><th scope=col>1802</th><th scope=col>1803</th></tr></thead>\n",
       "<tbody>\n",
       "\t<tr><td>Afghanistan         </td><td> 603                </td><td> 603                </td><td> 603                </td><td> 603                </td></tr>\n",
       "\t<tr><td>Angola              </td><td> 618                </td><td> 620                </td><td> 623                </td><td> 626                </td></tr>\n",
       "\t<tr><td>Albania             </td><td> 667                </td><td> 667                </td><td> 667                </td><td> 667                </td></tr>\n",
       "\t<tr><td>Andorra             </td><td>1200                </td><td>1200                </td><td>1200                </td><td>1200                </td></tr>\n",
       "\t<tr><td>United Arab Emirates</td><td> 998                </td><td>1000                </td><td>1010                </td><td>1010                </td></tr>\n",
       "\t<tr><td>Argentina           </td><td>1640                </td><td>1640                </td><td>1650                </td><td>1650                </td></tr>\n",
       "</tbody>\n",
       "</table>\n"
      ],
      "text/latex": [
       "\\begin{tabular}{r|lllll}\n",
       " country & 1800 & 1801 & 1802 & 1803\\\\\n",
       "\\hline\n",
       "\t Afghanistan          &  603                 &  603                 &  603                 &  603                \\\\\n",
       "\t Angola               &  618                 &  620                 &  623                 &  626                \\\\\n",
       "\t Albania              &  667                 &  667                 &  667                 &  667                \\\\\n",
       "\t Andorra              & 1200                 & 1200                 & 1200                 & 1200                \\\\\n",
       "\t United Arab Emirates &  998                 & 1000                 & 1010                 & 1010                \\\\\n",
       "\t Argentina            & 1640                 & 1640                 & 1650                 & 1650                \\\\\n",
       "\\end{tabular}\n"
      ],
      "text/markdown": [
       "\n",
       "| country | 1800 | 1801 | 1802 | 1803 |\n",
       "|---|---|---|---|---|\n",
       "| Afghanistan          |  603                 |  603                 |  603                 |  603                 |\n",
       "| Angola               |  618                 |  620                 |  623                 |  626                 |\n",
       "| Albania              |  667                 |  667                 |  667                 |  667                 |\n",
       "| Andorra              | 1200                 | 1200                 | 1200                 | 1200                 |\n",
       "| United Arab Emirates |  998                 | 1000                 | 1010                 | 1010                 |\n",
       "| Argentina            | 1640                 | 1640                 | 1650                 | 1650                 |\n",
       "\n"
      ],
      "text/plain": [
       "  country              1800 1801 1802 1803\n",
       "1 Afghanistan           603  603  603  603\n",
       "2 Angola                618  620  623  626\n",
       "3 Albania               667  667  667  667\n",
       "4 Andorra              1200 1200 1200 1200\n",
       "5 United Arab Emirates  998 1000 1010 1010\n",
       "6 Argentina            1640 1640 1650 1650"
      ]
     },
     "metadata": {},
     "output_type": "display_data"
    }
   ],
   "source": [
    "subset <- gapminder_income_data[1:10,1:5]\n",
    "head(subset)"
   ]
  },
  {
   "cell_type": "code",
   "execution_count": 5,
   "id": "5a66972c",
   "metadata": {},
   "outputs": [
    {
     "data": {
      "text/html": [
       "<table>\n",
       "<thead><tr><th scope=col>country</th><th scope=col>year</th><th scope=col>incomeUSD</th></tr></thead>\n",
       "<tbody>\n",
       "\t<tr><td>Afghanistan</td><td>1800       </td><td>603        </td></tr>\n",
       "\t<tr><td>Afghanistan</td><td>1801       </td><td>603        </td></tr>\n",
       "\t<tr><td>Afghanistan</td><td>1802       </td><td>603        </td></tr>\n",
       "\t<tr><td>Afghanistan</td><td>1803       </td><td>603        </td></tr>\n",
       "\t<tr><td>Angola     </td><td>1800       </td><td>618        </td></tr>\n",
       "\t<tr><td>Angola     </td><td>1801       </td><td>620        </td></tr>\n",
       "\t<tr><td>Angola     </td><td>1802       </td><td>623        </td></tr>\n",
       "\t<tr><td>Angola     </td><td>1803       </td><td>626        </td></tr>\n",
       "\t<tr><td>Albania    </td><td>1800       </td><td>667        </td></tr>\n",
       "\t<tr><td>Albania    </td><td>1801       </td><td>667        </td></tr>\n",
       "</tbody>\n",
       "</table>\n"
      ],
      "text/latex": [
       "\\begin{tabular}{r|lll}\n",
       " country & year & incomeUSD\\\\\n",
       "\\hline\n",
       "\t Afghanistan & 1800        & 603        \\\\\n",
       "\t Afghanistan & 1801        & 603        \\\\\n",
       "\t Afghanistan & 1802        & 603        \\\\\n",
       "\t Afghanistan & 1803        & 603        \\\\\n",
       "\t Angola      & 1800        & 618        \\\\\n",
       "\t Angola      & 1801        & 620        \\\\\n",
       "\t Angola      & 1802        & 623        \\\\\n",
       "\t Angola      & 1803        & 626        \\\\\n",
       "\t Albania     & 1800        & 667        \\\\\n",
       "\t Albania     & 1801        & 667        \\\\\n",
       "\\end{tabular}\n"
      ],
      "text/markdown": [
       "\n",
       "| country | year | incomeUSD |\n",
       "|---|---|---|\n",
       "| Afghanistan | 1800        | 603         |\n",
       "| Afghanistan | 1801        | 603         |\n",
       "| Afghanistan | 1802        | 603         |\n",
       "| Afghanistan | 1803        | 603         |\n",
       "| Angola      | 1800        | 618         |\n",
       "| Angola      | 1801        | 620         |\n",
       "| Angola      | 1802        | 623         |\n",
       "| Angola      | 1803        | 626         |\n",
       "| Albania     | 1800        | 667         |\n",
       "| Albania     | 1801        | 667         |\n",
       "\n"
      ],
      "text/plain": [
       "   country     year incomeUSD\n",
       "1  Afghanistan 1800 603      \n",
       "2  Afghanistan 1801 603      \n",
       "3  Afghanistan 1802 603      \n",
       "4  Afghanistan 1803 603      \n",
       "5  Angola      1800 618      \n",
       "6  Angola      1801 620      \n",
       "7  Angola      1802 623      \n",
       "8  Angola      1803 626      \n",
       "9  Albania     1800 667      \n",
       "10 Albania     1801 667      "
      ]
     },
     "metadata": {},
     "output_type": "display_data"
    }
   ],
   "source": [
    "subset_long <- subset %>%\n",
    "                    pivot_longer(!country, names_to = 'year', values_to = 'incomeUSD')\n",
    "head(subset_long,10)"
   ]
  },
  {
   "cell_type": "code",
   "execution_count": 6,
   "id": "1e60afc4",
   "metadata": {
    "scrolled": true
   },
   "outputs": [
    {
     "data": {
      "text/html": [
       "<table>\n",
       "<thead><tr><th scope=col>country</th><th scope=col>1800</th><th scope=col>1801</th><th scope=col>1802</th><th scope=col>1803</th></tr></thead>\n",
       "<tbody>\n",
       "\t<tr><td>Afghanistan         </td><td> 603                </td><td> 603                </td><td> 603                </td><td> 603                </td></tr>\n",
       "\t<tr><td>Angola              </td><td> 618                </td><td> 620                </td><td> 623                </td><td> 626                </td></tr>\n",
       "\t<tr><td>Albania             </td><td> 667                </td><td> 667                </td><td> 667                </td><td> 667                </td></tr>\n",
       "\t<tr><td>Andorra             </td><td>1200                </td><td>1200                </td><td>1200                </td><td>1200                </td></tr>\n",
       "\t<tr><td>United Arab Emirates</td><td> 998                </td><td>1000                </td><td>1010                </td><td>1010                </td></tr>\n",
       "\t<tr><td>Argentina           </td><td>1640                </td><td>1640                </td><td>1650                </td><td>1650                </td></tr>\n",
       "</tbody>\n",
       "</table>\n"
      ],
      "text/latex": [
       "\\begin{tabular}{r|lllll}\n",
       " country & 1800 & 1801 & 1802 & 1803\\\\\n",
       "\\hline\n",
       "\t Afghanistan          &  603                 &  603                 &  603                 &  603                \\\\\n",
       "\t Angola               &  618                 &  620                 &  623                 &  626                \\\\\n",
       "\t Albania              &  667                 &  667                 &  667                 &  667                \\\\\n",
       "\t Andorra              & 1200                 & 1200                 & 1200                 & 1200                \\\\\n",
       "\t United Arab Emirates &  998                 & 1000                 & 1010                 & 1010                \\\\\n",
       "\t Argentina            & 1640                 & 1640                 & 1650                 & 1650                \\\\\n",
       "\\end{tabular}\n"
      ],
      "text/markdown": [
       "\n",
       "| country | 1800 | 1801 | 1802 | 1803 |\n",
       "|---|---|---|---|---|\n",
       "| Afghanistan          |  603                 |  603                 |  603                 |  603                 |\n",
       "| Angola               |  618                 |  620                 |  623                 |  626                 |\n",
       "| Albania              |  667                 |  667                 |  667                 |  667                 |\n",
       "| Andorra              | 1200                 | 1200                 | 1200                 | 1200                 |\n",
       "| United Arab Emirates |  998                 | 1000                 | 1010                 | 1010                 |\n",
       "| Argentina            | 1640                 | 1640                 | 1650                 | 1650                 |\n",
       "\n"
      ],
      "text/plain": [
       "  country              1800 1801 1802 1803\n",
       "1 Afghanistan           603  603  603  603\n",
       "2 Angola                618  620  623  626\n",
       "3 Albania               667  667  667  667\n",
       "4 Andorra              1200 1200 1200 1200\n",
       "5 United Arab Emirates  998 1000 1010 1010\n",
       "6 Argentina            1640 1640 1650 1650"
      ]
     },
     "metadata": {},
     "output_type": "display_data"
    }
   ],
   "source": [
    "subset_wide <- subset_long %>%\n",
    "                    pivot_wider( names_from = 'year', values_from = 'incomeUSD')\n",
    "head(subset_wide) #reverted"
   ]
  },
  {
   "cell_type": "markdown",
   "id": "d8015300",
   "metadata": {},
   "source": [
    "### 2) dplyr\n",
    "\n",
    "The dplyr package ovides a grammar of data manipulation, providing a consistent set of verbs that solve the most common data manipulation challenges. It is your top tool for subseting, filtering, grouping & summarizing data; you can construct pipelines starting from basic statistics till sophisticated data manipulation pipelines. It's better to view dplyr as R's representative of SQL. We will observe together how dplyr manages to do the tasks you usually do with SQL so that you can understand the whats & whys of dplyr from the SQL context you are all familiar with."
   ]
  },
  {
   "cell_type": "code",
   "execution_count": 7,
   "id": "7db7f4b8",
   "metadata": {},
   "outputs": [
    {
     "name": "stderr",
     "output_type": "stream",
     "text": [
      "Loading required package: gsubfn\n",
      "Loading required package: proto\n",
      "Loading required package: RSQLite\n"
     ]
    }
   ],
   "source": [
    "options(warn = -1)\n",
    "library(sqldf) #SQL commands in R\n",
    "library(dplyr)"
   ]
  },
  {
   "cell_type": "code",
   "execution_count": 8,
   "id": "85840fae",
   "metadata": {},
   "outputs": [
    {
     "data": {
      "text/html": [
       "<table>\n",
       "<thead><tr><th scope=col>country</th><th scope=col>year</th><th scope=col>incomeUSD</th></tr></thead>\n",
       "<tbody>\n",
       "\t<tr><td>Afghanistan</td><td>1800       </td><td>603        </td></tr>\n",
       "\t<tr><td>Afghanistan</td><td>1801       </td><td>603        </td></tr>\n",
       "\t<tr><td>Afghanistan</td><td>1802       </td><td>603        </td></tr>\n",
       "</tbody>\n",
       "</table>\n"
      ],
      "text/latex": [
       "\\begin{tabular}{r|lll}\n",
       " country & year & incomeUSD\\\\\n",
       "\\hline\n",
       "\t Afghanistan & 1800        & 603        \\\\\n",
       "\t Afghanistan & 1801        & 603        \\\\\n",
       "\t Afghanistan & 1802        & 603        \\\\\n",
       "\\end{tabular}\n"
      ],
      "text/markdown": [
       "\n",
       "| country | year | incomeUSD |\n",
       "|---|---|---|\n",
       "| Afghanistan | 1800        | 603         |\n",
       "| Afghanistan | 1801        | 603         |\n",
       "| Afghanistan | 1802        | 603         |\n",
       "\n"
      ],
      "text/plain": [
       "  country     year incomeUSD\n",
       "1 Afghanistan 1800 603      \n",
       "2 Afghanistan 1801 603      \n",
       "3 Afghanistan 1802 603      "
      ]
     },
     "metadata": {},
     "output_type": "display_data"
    }
   ],
   "source": [
    "sqldf(\"select * from subset_long limit 3\") # getting first 3 rows with sql in r"
   ]
  },
  {
   "cell_type": "code",
   "execution_count": 9,
   "id": "24334012",
   "metadata": {},
   "outputs": [
    {
     "data": {
      "text/html": [
       "<table>\n",
       "<thead><tr><th scope=col>country</th><th scope=col>AVG1801</th></tr></thead>\n",
       "<tbody>\n",
       "\t<tr><td>Austria            </td><td>1850               </td></tr>\n",
       "\t<tr><td>Argentina          </td><td>1640               </td></tr>\n",
       "\t<tr><td>Andorra            </td><td>1200               </td></tr>\n",
       "\t<tr><td>Australia          </td><td> 822               </td></tr>\n",
       "\t<tr><td>Antigua and Barbuda</td><td> 757               </td></tr>\n",
       "</tbody>\n",
       "</table>\n"
      ],
      "text/latex": [
       "\\begin{tabular}{r|ll}\n",
       " country & AVG1801\\\\\n",
       "\\hline\n",
       "\t Austria             & 1850               \\\\\n",
       "\t Argentina           & 1640               \\\\\n",
       "\t Andorra             & 1200               \\\\\n",
       "\t Australia           &  822               \\\\\n",
       "\t Antigua and Barbuda &  757               \\\\\n",
       "\\end{tabular}\n"
      ],
      "text/markdown": [
       "\n",
       "| country | AVG1801 |\n",
       "|---|---|\n",
       "| Austria             | 1850                |\n",
       "| Argentina           | 1640                |\n",
       "| Andorra             | 1200                |\n",
       "| Australia           |  822                |\n",
       "| Antigua and Barbuda |  757                |\n",
       "\n"
      ],
      "text/plain": [
       "  country             AVG1801\n",
       "1 Austria             1850   \n",
       "2 Argentina           1640   \n",
       "3 Andorra             1200   \n",
       "4 Australia            822   \n",
       "5 Antigua and Barbuda  757   "
      ]
     },
     "metadata": {},
     "output_type": "display_data"
    }
   ],
   "source": [
    "sql_result <- sqldf(\"SELECT country, AVG(`1801`) as AVG1801\n",
    "                    FROM subset\n",
    "                    WHERE country LIKE 'A%'\n",
    "                    GROUP BY country\n",
    "                    ORDER BY AVG1801 DESC\n",
    "                    LIMIT 5\")\n",
    "sql_result"
   ]
  },
  {
   "cell_type": "code",
   "execution_count": 10,
   "id": "a38a37d8",
   "metadata": {},
   "outputs": [
    {
     "data": {
      "text/html": [
       "<table>\n",
       "<thead><tr><th scope=col>country</th><th scope=col>AVG1801</th></tr></thead>\n",
       "<tbody>\n",
       "\t<tr><td>Austria            </td><td>1850               </td></tr>\n",
       "\t<tr><td>Argentina          </td><td>1640               </td></tr>\n",
       "\t<tr><td>Andorra            </td><td>1200               </td></tr>\n",
       "\t<tr><td>Australia          </td><td> 822               </td></tr>\n",
       "\t<tr><td>Antigua and Barbuda</td><td> 757               </td></tr>\n",
       "</tbody>\n",
       "</table>\n"
      ],
      "text/latex": [
       "\\begin{tabular}{r|ll}\n",
       " country & AVG1801\\\\\n",
       "\\hline\n",
       "\t Austria             & 1850               \\\\\n",
       "\t Argentina           & 1640               \\\\\n",
       "\t Andorra             & 1200               \\\\\n",
       "\t Australia           &  822               \\\\\n",
       "\t Antigua and Barbuda &  757               \\\\\n",
       "\\end{tabular}\n"
      ],
      "text/markdown": [
       "\n",
       "| country | AVG1801 |\n",
       "|---|---|\n",
       "| Austria             | 1850                |\n",
       "| Argentina           | 1640                |\n",
       "| Andorra             | 1200                |\n",
       "| Australia           |  822                |\n",
       "| Antigua and Barbuda |  757                |\n",
       "\n"
      ],
      "text/plain": [
       "  country             AVG1801\n",
       "1 Austria             1850   \n",
       "2 Argentina           1640   \n",
       "3 Andorra             1200   \n",
       "4 Australia            822   \n",
       "5 Antigua and Barbuda  757   "
      ]
     },
     "metadata": {},
     "output_type": "display_data"
    }
   ],
   "source": [
    "dplyr_result <- subset %>%\n",
    "            select(country, `1801`) %>% \n",
    "                filter(startsWith(country,'A'))%>%\n",
    "                        group_by(country) %>%\n",
    "                            summarize(AVG1801 = mean(`1801`)) %>%\n",
    "                                arrange(-AVG1801) %>%\n",
    "                                    slice_head(n = 5)\n",
    "dplyr_result"
   ]
  },
  {
   "cell_type": "code",
   "execution_count": 11,
   "id": "8b913f05",
   "metadata": {},
   "outputs": [
    {
     "data": {
      "text/html": [
       "TRUE"
      ],
      "text/latex": [
       "TRUE"
      ],
      "text/markdown": [
       "TRUE"
      ],
      "text/plain": [
       "[1] TRUE"
      ]
     },
     "metadata": {},
     "output_type": "display_data"
    }
   ],
   "source": [
    "as.logical(mean(sql_result == dplyr_result))"
   ]
  },
  {
   "cell_type": "markdown",
   "id": "71ae1387",
   "metadata": {},
   "source": [
    "### 3) purr\n",
    "\n",
    "purrr enhances R’s functional programming (FP) toolkit by providing a complete and consistent set of tools for working with functions and vectors. Once you master the basic concepts, purrr allows you to replace many for loops with code that is easier to write and more expressive. Let's start by mappers, we have gave a qucik introduction to mappers the last lecture. We talked on their functionality & how they are a better alternative to looping (according to FP). We will take a look on purrr's mappers. Keep in mind that they are more efficient & usable than baseR mappers."
   ]
  },
  {
   "cell_type": "code",
   "execution_count": 12,
   "id": "04be6349",
   "metadata": {},
   "outputs": [
    {
     "data": {
      "text/html": [
       "<ol>\n",
       "\t<li>2</li>\n",
       "\t<li>3</li>\n",
       "\t<li>4</li>\n",
       "</ol>\n"
      ],
      "text/latex": [
       "\\begin{enumerate}\n",
       "\\item 2\n",
       "\\item 3\n",
       "\\item 4\n",
       "\\end{enumerate}\n"
      ],
      "text/markdown": [
       "1. 2\n",
       "2. 3\n",
       "3. 4\n",
       "\n",
       "\n"
      ],
      "text/plain": [
       "[[1]]\n",
       "[1] 2\n",
       "\n",
       "[[2]]\n",
       "[1] 3\n",
       "\n",
       "[[3]]\n",
       "[1] 4\n"
      ]
     },
     "metadata": {},
     "output_type": "display_data"
    },
    {
     "data": {
      "text/html": [
       "<ol>\n",
       "\t<li>TRUE</li>\n",
       "\t<li>FALSE</li>\n",
       "\t<li>FALSE</li>\n",
       "</ol>\n"
      ],
      "text/latex": [
       "\\begin{enumerate}\n",
       "\\item TRUE\n",
       "\\item FALSE\n",
       "\\item FALSE\n",
       "\\end{enumerate}\n"
      ],
      "text/markdown": [
       "1. TRUE\n",
       "2. FALSE\n",
       "3. FALSE\n",
       "\n",
       "\n"
      ],
      "text/plain": [
       "[[1]]\n",
       "[1] TRUE\n",
       "\n",
       "[[2]]\n",
       "[1] FALSE\n",
       "\n",
       "[[3]]\n",
       "[1] FALSE\n"
      ]
     },
     "metadata": {},
     "output_type": "display_data"
    },
    {
     "data": {
      "text/html": [
       "<ol>\n",
       "\t<li>5</li>\n",
       "\t<li>5</li>\n",
       "\t<li>5</li>\n",
       "</ol>\n"
      ],
      "text/latex": [
       "\\begin{enumerate}\n",
       "\\item 5\n",
       "\\item 5\n",
       "\\item 5\n",
       "\\end{enumerate}\n"
      ],
      "text/markdown": [
       "1. 5\n",
       "2. 5\n",
       "3. 5\n",
       "\n",
       "\n"
      ],
      "text/plain": [
       "[[1]]\n",
       "[1] 5\n",
       "\n",
       "[[2]]\n",
       "[1] 5\n",
       "\n",
       "[[3]]\n",
       "[1] 5\n"
      ]
     },
     "metadata": {},
     "output_type": "display_data"
    },
    {
     "data": {
      "text/html": [
       "<dl>\n",
       "\t<dt>$country</dt>\n",
       "\t\t<dd>'Afghanistan'</dd>\n",
       "\t<dt>$year</dt>\n",
       "\t\t<dd>'1802'</dd>\n",
       "\t<dt>$incomeUSD</dt>\n",
       "\t\t<dd>603</dd>\n",
       "</dl>\n"
      ],
      "text/latex": [
       "\\begin{description}\n",
       "\\item[\\$country] 'Afghanistan'\n",
       "\\item[\\$year] '1802'\n",
       "\\item[\\$incomeUSD] 603\n",
       "\\end{description}\n"
      ],
      "text/markdown": [
       "$country\n",
       ":   'Afghanistan'\n",
       "$year\n",
       ":   '1802'\n",
       "$incomeUSD\n",
       ":   603\n",
       "\n",
       "\n"
      ],
      "text/plain": [
       "$country\n",
       "[1] \"Afghanistan\"\n",
       "\n",
       "$year\n",
       "[1] \"1802\"\n",
       "\n",
       "$incomeUSD\n",
       "[1] 603\n"
      ]
     },
     "metadata": {},
     "output_type": "display_data"
    }
   ],
   "source": [
    "library(purrr)\n",
    "\n",
    "#general purpose mappers\n",
    "map(c(4,9,16),sqrt) #with vectors\n",
    "\n",
    "random_list <- list(\"Jim\", 23, FALSE)\n",
    "map(random_list, is.character) #with lists\n",
    "\n",
    "ages <- list(c(1,1,5),c(2,2,5),c(3,3,5))\n",
    "map(ages,3) #with lists of vectors, can be used for indexing\n",
    "\n",
    "map(subset_long,3) #with data frames; data frame === list of vectors"
   ]
  },
  {
   "cell_type": "markdown",
   "id": "739f8ae2",
   "metadata": {},
   "source": [
    "map() always returns a list, even if all the elements have the same flavor and are of length one. But in that case, you might prefer a simpler object: an atomic vector.\n",
    "\n",
    "If you expect map() to return output that can be turned into an atomic vector, it is best to use a type-specific variant of map(). This is more efficient than using map() to get a list and then simplifying the result in a second step. Also purrr will alert you to any problems, i.e. if one or more inputs has the wrong type or length. "
   ]
  },
  {
   "cell_type": "code",
   "execution_count": 13,
   "id": "71ff8d9b",
   "metadata": {},
   "outputs": [
    {
     "data": {
      "text/html": [
       "TRUE"
      ],
      "text/latex": [
       "TRUE"
      ],
      "text/markdown": [
       "TRUE"
      ],
      "text/plain": [
       "[1] TRUE"
      ]
     },
     "metadata": {},
     "output_type": "display_data"
    },
    {
     "data": {
      "text/html": [
       "'numeric'"
      ],
      "text/latex": [
       "'numeric'"
      ],
      "text/markdown": [
       "'numeric'"
      ],
      "text/plain": [
       "[1] \"numeric\""
      ]
     },
     "metadata": {},
     "output_type": "display_data"
    },
    {
     "data": {
      "text/html": [
       "<ol class=list-inline>\n",
       "\t<li>2</li>\n",
       "\t<li>3</li>\n",
       "\t<li>4</li>\n",
       "</ol>\n"
      ],
      "text/latex": [
       "\\begin{enumerate*}\n",
       "\\item 2\n",
       "\\item 3\n",
       "\\item 4\n",
       "\\end{enumerate*}\n"
      ],
      "text/markdown": [
       "1. 2\n",
       "2. 3\n",
       "3. 4\n",
       "\n",
       "\n"
      ],
      "text/plain": [
       "[1] 2 3 4"
      ]
     },
     "metadata": {},
     "output_type": "display_data"
    },
    {
     "data": {
      "text/html": [
       "<ol class=list-inline>\n",
       "\t<li>'B'</li>\n",
       "\t<li>'F'</li>\n",
       "\t<li>'I'</li>\n",
       "</ol>\n"
      ],
      "text/latex": [
       "\\begin{enumerate*}\n",
       "\\item 'B'\n",
       "\\item 'F'\n",
       "\\item 'I'\n",
       "\\end{enumerate*}\n"
      ],
      "text/markdown": [
       "1. 'B'\n",
       "2. 'F'\n",
       "3. 'I'\n",
       "\n",
       "\n"
      ],
      "text/plain": [
       "[1] \"B\" \"F\" \"I\""
      ]
     },
     "metadata": {},
     "output_type": "display_data"
    }
   ],
   "source": [
    "#type specific mappers\n",
    "roots <- map_dbl(c(4,9,16),sqrt)\n",
    "is.vector(roots)\n",
    "class(roots)\n",
    "roots\n",
    "\n",
    "map_chr(list(c('A','B','D'),c('E','F','G'),c('H','I','J')),2)\n",
    "\n",
    "# map_int, map_lgl"
   ]
  },
  {
   "cell_type": "markdown",
   "id": "c75385ad",
   "metadata": {},
   "source": [
    "### 4) stringr\n",
    "\n",
    "stringr provides a cohesive set of functions designed to make working with strings as easy as possible. It is built on top of stringi, which uses the ICU C library to provide fast, correct implementations of common string manipulations.\n",
    "\n",
    "There are four main families of functions in stringr:\n",
    "\n",
    "* Character manipulation: these functions allow you to manipulate individual characters within the strings in character vectors.\n",
    "\n",
    "* Whitespace tools to add, remove, and manipulate whitespace.\n",
    "\n",
    "* Locale sensitive operations whose operations will vary from locale to locale.\n",
    "\n",
    "* Pattern matching functions. These recognise four engines of pattern description. The most common is regular expressions, but there are three other tools."
   ]
  },
  {
   "cell_type": "code",
   "execution_count": 2,
   "id": "6b9f73a1",
   "metadata": {},
   "outputs": [
    {
     "data": {
      "text/html": [
       "16"
      ],
      "text/latex": [
       "16"
      ],
      "text/markdown": [
       "16"
      ],
      "text/plain": [
       "[1] 16"
      ]
     },
     "metadata": {},
     "output_type": "display_data"
    },
    {
     "data": {
      "text/html": [
       "'his is a str'"
      ],
      "text/latex": [
       "'his is a str'"
      ],
      "text/markdown": [
       "'his is a str'"
      ],
      "text/plain": [
       "[1] \"his is a str\""
      ]
     },
     "metadata": {},
     "output_type": "display_data"
    },
    {
     "data": {
      "text/html": [
       "<span style=white-space:pre-wrap>'         This is a string               '</span>"
      ],
      "text/latex": [
       "'         This is a string               '"
      ],
      "text/markdown": [
       "<span style=white-space:pre-wrap>'         This is a string               '</span>"
      ],
      "text/plain": [
       "[1] \"         This is a string               \""
      ]
     },
     "metadata": {},
     "output_type": "display_data"
    },
    {
     "data": {
      "text/html": [
       "'This is a string'"
      ],
      "text/latex": [
       "'This is a string'"
      ],
      "text/markdown": [
       "'This is a string'"
      ],
      "text/plain": [
       "[1] \"This is a string\""
      ]
     },
     "metadata": {},
     "output_type": "display_data"
    }
   ],
   "source": [
    "library(stringr)\n",
    "\n",
    "# Character manipulation\n",
    "\n",
    "string <- \"This is a string\"\n",
    "\n",
    "str_length(string)\n",
    "string %>% str_sub(2,-4) # From second character to 4th last character slicing\n",
    "\n",
    "# White spaces\n",
    "padded_string <- \"         This is a string               \"\n",
    "padded_string\n",
    "str_trim(padded_string)"
   ]
  },
  {
   "cell_type": "code",
   "execution_count": 3,
   "id": "f69bb494",
   "metadata": {},
   "outputs": [
    {
     "data": {
      "text/html": [
       "'THIS IS A STRING'"
      ],
      "text/latex": [
       "'THIS IS A STRING'"
      ],
      "text/markdown": [
       "'THIS IS A STRING'"
      ],
      "text/plain": [
       "[1] \"THIS IS A STRING\""
      ]
     },
     "metadata": {},
     "output_type": "display_data"
    },
    {
     "data": {
      "text/html": [
       "'this is a string'"
      ],
      "text/latex": [
       "'this is a string'"
      ],
      "text/markdown": [
       "'this is a string'"
      ],
      "text/plain": [
       "[1] \"this is a string\""
      ]
     },
     "metadata": {},
     "output_type": "display_data"
    },
    {
     "data": {
      "text/html": [
       "'This Is A String'"
      ],
      "text/latex": [
       "'This Is A String'"
      ],
      "text/markdown": [
       "'This Is A String'"
      ],
      "text/plain": [
       "[1] \"This Is A String\""
      ]
     },
     "metadata": {},
     "output_type": "display_data"
    }
   ],
   "source": [
    "#Sensitivity\n",
    "str_to_upper(string)\n",
    "str_to_lower(string)\n",
    "str_to_title(string)"
   ]
  },
  {
   "cell_type": "code",
   "execution_count": 5,
   "id": "e02ae882",
   "metadata": {},
   "outputs": [
    {
     "data": {
      "text/html": [
       "<ol class=list-inline>\n",
       "\t<li>'A'</li>\n",
       "\t<li>'B'</li>\n",
       "\t<li>'C'</li>\n",
       "</ol>\n"
      ],
      "text/latex": [
       "\\begin{enumerate*}\n",
       "\\item 'A'\n",
       "\\item 'B'\n",
       "\\item 'C'\n",
       "\\end{enumerate*}\n"
      ],
      "text/markdown": [
       "1. 'A'\n",
       "2. 'B'\n",
       "3. 'C'\n",
       "\n",
       "\n"
      ],
      "text/plain": [
       "[1] \"A\" \"B\" \"C\""
      ]
     },
     "metadata": {},
     "output_type": "display_data"
    }
   ],
   "source": [
    "#Order & sorting\n",
    "chars <- c('C','A','B')\n",
    "str_sort(chars)"
   ]
  },
  {
   "cell_type": "code",
   "execution_count": 6,
   "id": "92933d34",
   "metadata": {},
   "outputs": [
    {
     "data": {
      "text/html": [
       "<ol class=list-inline>\n",
       "\t<li>FALSE</li>\n",
       "\t<li>FALSE</li>\n",
       "\t<li>TRUE</li>\n",
       "\t<li>TRUE</li>\n",
       "\t<li>FALSE</li>\n",
       "</ol>\n"
      ],
      "text/latex": [
       "\\begin{enumerate*}\n",
       "\\item FALSE\n",
       "\\item FALSE\n",
       "\\item TRUE\n",
       "\\item TRUE\n",
       "\\item FALSE\n",
       "\\end{enumerate*}\n"
      ],
      "text/markdown": [
       "1. FALSE\n",
       "2. FALSE\n",
       "3. TRUE\n",
       "4. TRUE\n",
       "5. FALSE\n",
       "\n",
       "\n"
      ],
      "text/plain": [
       "[1] FALSE FALSE  TRUE  TRUE FALSE"
      ]
     },
     "metadata": {},
     "output_type": "display_data"
    },
    {
     "data": {
      "text/html": [
       "<ol class=list-inline>\n",
       "\t<li>'01644422289'</li>\n",
       "\t<li>'01788832341'</li>\n",
       "</ol>\n"
      ],
      "text/latex": [
       "\\begin{enumerate*}\n",
       "\\item '01644422289'\n",
       "\\item '01788832341'\n",
       "\\end{enumerate*}\n"
      ],
      "text/markdown": [
       "1. '01644422289'\n",
       "2. '01788832341'\n",
       "\n",
       "\n"
      ],
      "text/plain": [
       "[1] \"01644422289\" \"01788832341\""
      ]
     },
     "metadata": {},
     "output_type": "display_data"
    },
    {
     "data": {
      "text/html": [
       "<ol class=list-inline>\n",
       "\t<li>0</li>\n",
       "\t<li>0</li>\n",
       "\t<li>1</li>\n",
       "\t<li>1</li>\n",
       "\t<li>0</li>\n",
       "</ol>\n"
      ],
      "text/latex": [
       "\\begin{enumerate*}\n",
       "\\item 0\n",
       "\\item 0\n",
       "\\item 1\n",
       "\\item 1\n",
       "\\item 0\n",
       "\\end{enumerate*}\n"
      ],
      "text/markdown": [
       "1. 0\n",
       "2. 0\n",
       "3. 1\n",
       "4. 1\n",
       "5. 0\n",
       "\n",
       "\n"
      ],
      "text/plain": [
       "[1] 0 0 1 1 0"
      ]
     },
     "metadata": {},
     "output_type": "display_data"
    },
    {
     "data": {
      "text/html": [
       "<table>\n",
       "<thead><tr><th scope=col>strings</th><th scope=col>start</th><th scope=col>end</th></tr></thead>\n",
       "<tbody>\n",
       "\t<tr><td>Michael Gary Scott    </td><td>NA                    </td><td>NA                    </td></tr>\n",
       "\t<tr><td>Scranton, Pennsylvania</td><td>NA                    </td><td>NA                    </td></tr>\n",
       "\t<tr><td>01644422289           </td><td> 1                    </td><td>11                    </td></tr>\n",
       "\t<tr><td>01788832341           </td><td> 1                    </td><td>11                    </td></tr>\n",
       "\t<tr><td>Regional Manager      </td><td>NA                    </td><td>NA                    </td></tr>\n",
       "</tbody>\n",
       "</table>\n"
      ],
      "text/latex": [
       "\\begin{tabular}{r|lll}\n",
       " strings & start & end\\\\\n",
       "\\hline\n",
       "\t Michael Gary Scott     & NA                     & NA                    \\\\\n",
       "\t Scranton, Pennsylvania & NA                     & NA                    \\\\\n",
       "\t 01644422289            &  1                     & 11                    \\\\\n",
       "\t 01788832341            &  1                     & 11                    \\\\\n",
       "\t Regional Manager       & NA                     & NA                    \\\\\n",
       "\\end{tabular}\n"
      ],
      "text/markdown": [
       "\n",
       "| strings | start | end |\n",
       "|---|---|---|\n",
       "| Michael Gary Scott     | NA                     | NA                     |\n",
       "| Scranton, Pennsylvania | NA                     | NA                     |\n",
       "| 01644422289            |  1                     | 11                     |\n",
       "| 01788832341            |  1                     | 11                     |\n",
       "| Regional Manager       | NA                     | NA                     |\n",
       "\n"
      ],
      "text/plain": [
       "  strings                start end\n",
       "1 Michael Gary Scott     NA    NA \n",
       "2 Scranton, Pennsylvania NA    NA \n",
       "3 01644422289             1    11 \n",
       "4 01788832341             1    11 \n",
       "5 Regional Manager       NA    NA "
      ]
     },
     "metadata": {},
     "output_type": "display_data"
    },
    {
     "data": {
      "text/html": [
       "<ol class=list-inline>\n",
       "\t<li>'Michael Gary Scott'</li>\n",
       "\t<li>'Scranton, Pennsylvania'</li>\n",
       "\t<li>'This was a phone number'</li>\n",
       "\t<li>'This was a phone number'</li>\n",
       "\t<li>'Regional Manager'</li>\n",
       "</ol>\n"
      ],
      "text/latex": [
       "\\begin{enumerate*}\n",
       "\\item 'Michael Gary Scott'\n",
       "\\item 'Scranton, Pennsylvania'\n",
       "\\item 'This was a phone number'\n",
       "\\item 'This was a phone number'\n",
       "\\item 'Regional Manager'\n",
       "\\end{enumerate*}\n"
      ],
      "text/markdown": [
       "1. 'Michael Gary Scott'\n",
       "2. 'Scranton, Pennsylvania'\n",
       "3. 'This was a phone number'\n",
       "4. 'This was a phone number'\n",
       "5. 'Regional Manager'\n",
       "\n",
       "\n"
      ],
      "text/plain": [
       "[1] \"Michael Gary Scott\"      \"Scranton, Pennsylvania\" \n",
       "[3] \"This was a phone number\" \"This was a phone number\"\n",
       "[5] \"Regional Manager\"       "
      ]
     },
     "metadata": {},
     "output_type": "display_data"
    }
   ],
   "source": [
    "#Pattern recognition\n",
    "\n",
    "phone_number_pattern <- \"[0-9]{11}\" #regular expression\n",
    "strings <- c(\"Michael Gary Scott\",\n",
    "            \"Scranton, Pennsylvania\",\n",
    "            \"01644422289\",\n",
    "            \"01788832341\",\n",
    "            \"Regional Manager\")\n",
    "\n",
    "str_detect(strings,phone_number_pattern) #Detection\n",
    "str_subset(strings,phone_number_pattern) #Subsetting\n",
    "str_count(strings,phone_number_pattern)  #counting\n",
    "data.frame(strings,str_locate(strings,phone_number_pattern)) #exact locations\n",
    "str_replace(strings, phone_number_pattern, \"This was a phone number\") #replacment"
   ]
  },
  {
   "cell_type": "markdown",
   "id": "fdb9e3b3",
   "metadata": {},
   "source": [
    "## More details"
   ]
  },
  {
   "cell_type": "markdown",
   "id": "77dfc685",
   "metadata": {},
   "source": [
    "The world of tidyverse is far-reaching & wide-ranging, here we will mention interesting datacamp courses for each concept we talked about today. They are all bonus over your mandatory course for this session, so no pressure to do them. They are just for more practice & setting a deeper foot into the topic.\n",
    "\n",
    "Courses : \n",
    "* [Working with Data in the Tidyverse](https://learn.datacamp.com/courses/working-with-data-in-the-tidyverse)\n",
    "* [Reshaping Data with tidyr](https://learn.datacamp.com/courses/reshaping-data-with-tidyr)\n",
    "* [Data Manipulation with dplyr](https://learn.datacamp.com/courses/data-manipulation-with-dplyr)\n",
    "* [Foundations of Functional Programming with purrr](https://learn.datacamp.com/courses/foundations-of-functional-programming-with-purrr)\n",
    "* [String Manipulation with stringr in R](https://learn.datacamp.com/courses/string-manipulation-with-stringr-in-r)\n",
    "\n",
    "**Prepare to the next session (optional too)**\n",
    "\n",
    "[Introduction to Data Visualization with ggplot2](https://learn.datacamp.com/courses/introduction-to-data-visualization-with-ggplot2)"
   ]
  },
  {
   "cell_type": "markdown",
   "id": "a5241a0a",
   "metadata": {},
   "source": [
    "## Challenge !!\n",
    "\n",
    "[Gapminder](https://www.gapminder.org/data/) is one of the largest websites that provide a data collection tool on international data that is concerned with education, income, health, social studies..etc. It has one problem, it provides un-tidy data that needs some reshape & processing to obtain a useful dataset. Your mission is to download data for different related indicators, tidy the downloaded data & join them together to complete one useful dataset from which we can extract insights. You may try plotting different relations between the indicators you chose to give us an insight. Good Luck!"
   ]
  }
 ],
 "metadata": {
  "kernelspec": {
   "display_name": "R",
   "language": "R",
   "name": "ir"
  },
  "language_info": {
   "codemirror_mode": "r",
   "file_extension": ".r",
   "mimetype": "text/x-r-source",
   "name": "R",
   "pygments_lexer": "r",
   "version": "3.6.1"
  }
 },
 "nbformat": 4,
 "nbformat_minor": 5
}
